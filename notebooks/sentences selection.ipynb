{
 "cells": [
  {
   "cell_type": "code",
   "execution_count": 329,
   "metadata": {},
   "outputs": [],
   "source": [
    "from transformers import AutoTokenizer, AutoModelForSeq2SeqLM\n",
    "import pandas as pd\n",
    "import json\n",
    "import os\n",
    "import py_vncorenlp\n",
    "from underthesea import sent_tokenize\n",
    "import numpy as np\n",
    "from rank_bm25 import BM25Okapi\n",
    "from numpy.random import normal\n",
    "from scipy.stats import truncnorm, boxcox, gamma\n",
    "import matplotlib.pyplot as plt\n",
    "import math\n",
    "import os, sys\n",
    "sys.path.append(\"../src\")\n",
    "\n",
    "from sentences_selection import select_sentences\n",
    "import copy"
   ]
  },
  {
   "cell_type": "code",
   "execution_count": 2,
   "metadata": {},
   "outputs": [
    {
     "name": "stdout",
     "output_type": "stream",
     "text": [
      "2023-10-25 23:04:28 INFO  WordSegmenter:24 - Loading Word Segmentation model\n"
     ]
    }
   ],
   "source": [
    "rdrsegmenter = py_vncorenlp.VnCoreNLP(annotators=[\"wseg\"], save_dir=os.path.abspath('../vncorenlp'))"
   ]
  },
  {
   "cell_type": "code",
   "execution_count": 38,
   "metadata": {},
   "outputs": [],
   "source": [
    "tokenizer = AutoTokenizer.from_pretrained(\"vinai/phobert-base-v2\")"
   ]
  },
  {
   "cell_type": "code",
   "execution_count": 39,
   "metadata": {},
   "outputs": [],
   "source": [
    "import re\n",
    "def no_accent_vietnamese(s):\n",
    "    s = re.sub(r'[àáạảãâầấậẩẫăằắặẳẵ]', 'a', s)\n",
    "    s = re.sub(r'[ÀÁẠẢÃĂẰẮẶẲẴÂẦẤẬẨẪ]', 'A', s)\n",
    "    s = re.sub(r'[èéẹẻẽêềếệểễ]', 'e', s)\n",
    "    s = re.sub(r'[ÈÉẸẺẼÊỀẾỆỂỄ]', 'E', s)\n",
    "    s = re.sub(r'[òóọỏõôồốộổỗơờớợởỡ]', 'o', s)\n",
    "    s = re.sub(r'[ÒÓỌỎÕÔỒỐỘỔỖƠỜỚỢỞỠ]', 'O', s)\n",
    "    s = re.sub(r'[ìíịỉĩ]', 'i', s)\n",
    "    s = re.sub(r'[ÌÍỊỈĨ]', 'I', s)\n",
    "    s = re.sub(r'[ùúụủũưừứựửữ]', 'u', s)\n",
    "    s = re.sub(r'[ƯỪỨỰỬỮÙÚỤỦŨ]', 'U', s)\n",
    "    s = re.sub(r'[ỳýỵỷỹ]', 'y', s)\n",
    "    s = re.sub(r'[ỲÝỴỶỸ]', 'Y', s)\n",
    "    s = re.sub(r'[Đ]', 'D', s)\n",
    "    s = re.sub(r'[đ]', 'd', s)\n",
    "    return s\n",
    "\n",
    "def sentences_splitting(text, rdrsegmenter=rdrsegmenter):\n",
    "\n",
    "    text_lower = no_accent_vietnamese(text.lower())\n",
    "    \n",
    "    original_sents=[]\n",
    "    processed_sents = []\n",
    "    \n",
    "    text_pos = 0\n",
    "    for _, sent in rdrsegmenter.annotate_text(text).items():\n",
    "        words = [w[\"wordForm\"] for w in sent]\n",
    "        words = [w.replace(\"_\", \" \") if w != \"_\" else \"_\" for w in words]\n",
    "\n",
    "        processed_sents.append(\" \".join(words))\n",
    "\n",
    "        words = [no_accent_vietnamese(w.lower()) for w in words]\n",
    "        words = sum([w.split() for w in words],[])\n",
    "\n",
    "\n",
    "        # find position of words in text_lower\n",
    "        pos_start = []\n",
    "        pos_end = []\n",
    "\n",
    "        for w in words:\n",
    "            idx = text_lower.find(w,text_pos)\n",
    "\n",
    "            pos_start.append(idx)\n",
    "            pos_end.append(idx + len(w))\n",
    "\n",
    "            text_pos = idx + len(w)\n",
    "        \n",
    "        # for testing\n",
    "        # test = [text_lower[pos_start[i]: pos_end[i]] for i in range(len(pos_start))]\n",
    "        # assert test == words\n",
    "\n",
    "        original_sents.append(text[pos_start[0]: pos_end[-1]])\n",
    "    return original_sents, processed_sents\n"
   ]
  },
  {
   "cell_type": "code",
   "execution_count": 40,
   "metadata": {},
   "outputs": [],
   "source": [
    "data = pd.read_json(\"../datasets/ise-dsc01-public-test-offcial.json\", orient=\"index\")"
   ]
  },
  {
   "cell_type": "code",
   "execution_count": 41,
   "metadata": {},
   "outputs": [],
   "source": [
    "idx = 29706"
   ]
  },
  {
   "cell_type": "code",
   "execution_count": 42,
   "metadata": {},
   "outputs": [
    {
     "data": {
      "text/plain": [
       "index                                                  41171\n",
       "context    Các khu vui chơi giải trí Sun World của Sun Gr...\n",
       "claim                             Mỗi nhánh của cầu dài 400m\n",
       "Name: 0, dtype: object"
      ]
     },
     "execution_count": 42,
     "metadata": {},
     "output_type": "execute_result"
    }
   ],
   "source": [
    "data.sample(n=1).reset_index().loc[0]"
   ]
  },
  {
   "cell_type": "code",
   "execution_count": 2695,
   "metadata": {},
   "outputs": [],
   "source": [
    "idx = 29706\n",
    "sample = data.sample(n=1).reset_index().loc[0]\n",
    "text = sample[\"context\"]\n",
    "claim = sample[\"claim\"]\n",
    "context = rdrsegmenter.word_segment(text)"
   ]
  },
  {
   "cell_type": "code",
   "execution_count": 2696,
   "metadata": {},
   "outputs": [],
   "source": [
    "def clean_str(s):\n",
    "    return ''.join(e.lower() if e.isalnum() else \" \" for e in s)"
   ]
  },
  {
   "cell_type": "code",
   "execution_count": 2697,
   "metadata": {},
   "outputs": [
    {
     "data": {
      "text/plain": [
       "['alisa',\n",
       " 'cho',\n",
       " 'biet',\n",
       " 'sau',\n",
       " 'khi',\n",
       " 'tot',\n",
       " 'nghiep',\n",
       " 'thi',\n",
       " 'se',\n",
       " 'qua',\n",
       " 'my',\n",
       " 'de',\n",
       " 'hoc',\n",
       " 'tiep']"
      ]
     },
     "execution_count": 2697,
     "metadata": {},
     "output_type": "execute_result"
    }
   ],
   "source": [
    "query = no_accent_vietnamese(clean_str(claim)).split()\n",
    "query"
   ]
  },
  {
   "cell_type": "code",
   "execution_count": 2698,
   "metadata": {},
   "outputs": [
    {
     "data": {
      "text/plain": [
       "['tu khi duoc biet toi la   than dong     alisa cham soi guong va luon chon quan ao dep moi khi ra duong  ',\n",
       " 'nguoi giam ho cua hai be lam viec trong linh vuc tai chinh   khong chia se ky ve danh tinh cung nhu cuoc song rieng  ',\n",
       " 'chi cho biet gap vicky tu khi con chua phat lo kha nang dac biet  ',\n",
       " 'khi vicky noi tieng   chi duoc nhieu nguoi hoi ve cach chon loc de nhan duoc nhung nguoi con nuoi tai nang  ',\n",
       " '  nhieu nguoi hieu sai co duyen cua hai me con   nghi rang toi nhan con nuoi co muc dich   tinh toan     nguoi me giai thich ly do an danh   de tranh gap nhung cau hoi gay ton thuong voi ba me con  ',\n",
       " 'khong biet tieng anh nen nhung tuan dau   hai chi em choi voi nhau vi khong co ban  ',\n",
       " 'thay cac con chua the hoa nhap   nguoi me goi y   nam cau hoi than ky   de lam quen  ',\n",
       " '  me day nam cau hoi ve y nghia cai ten   mon an yeu thich   ban den tu vung dat nao   choi mon the thao gi va thich cuon sach nao nhat  ',\n",
       " 'tuy nhien moi ap dung hai cau dau   em da quen duoc ca lop     nu sinh nam nhat chuyen nganh xay dung thuong hieu va quang cao ke  ',\n",
       " 'theo alisa   pham vi an nghia la   binh an   hanh phuc nho nho     con ngo ngoc chau la   vien ngoc nho    ',\n",
       " 'hai chi em giai thich ten minh va dat cau hoi ve y nghia ten cua cac ban trong lop  ',\n",
       " 'to mo   nhung dua tre ve hoi bo me de hom sau giai thich voi alisa va vicky  ',\n",
       " 'khi da thu hut duoc su chu y   hai chi em tiep tuc cau thu hai ve mon an yeu thich  ',\n",
       " 'cu the   sau hai thang   alisa va chi co the tro chuyen voi ban be bang tieng anh  ',\n",
       " 'o truong   chi em alisa duoc danh gia xuat sac theo hai tieu chi   hoc luc va cac ky nang mem  ',\n",
       " 'giao duc new zealand chu trong tinh toan dien   nen ngoai hoc luc   hoc sinh duoc xep loai dua tren sau ky nang   gom   intentional   chu dong trong moi truong hoc   collaborative   hop tac va lam viec nhom   curious   su hieu hoc   resourceful   kha nang xu ly tinh huong   connected   kha nang tao moi quan he va invested   kha nang lam viec bai ban  ',\n",
       " 'vicky co nao trai phat trien   iq cao   thien ve tinh toan   con alisa phat trien nao phai   eq cao   co kha nang ngon ngu   sang tao va nghe thuat  ',\n",
       " 'vicky hoc vuot tu lop 7 len lop 9 va vao thang aut nam 13 tuoi  ',\n",
       " 'duoc truyen cam hung tu chi   alisa hoan thanh cap mot va cap hai trong ba nam   cap ba trong 10 thang  ',\n",
       " 'em chi mat bon nam de tu lop hai vao dai hoc  ',\n",
       " 'alisa giai thich   em hoc vuot cap de dang vi chuong trinh cua new zealand co tinh ung dung va de cao su sang tao cua hoc sinh  ',\n",
       " '  em cung muon tiet kiem tien   bang cach hoc vuot   de me do vat va     alisa noi  ',\n",
       " 'theo nguoi giam ho cua hai be   trong he thong giao duc new zealand   neu muon hoc vuot cap   cac em can duoc xem xet cu the va duoc su dong y cua bo truong giao duc  ',\n",
       " 'trong vong hai nam   nguoi me da viet hon 1 000 email dau tranh de hai con duoc hoc vuot  ',\n",
       " 'alisa cung phai hoan thanh 80 tin chi  ',\n",
       " 'trong khi do   thang 8 11 2021   auckland bi phong toa vi dich benh  ',\n",
       " 'thoi diem ay   alisa moi xong 21 tin chi  ',\n",
       " 'dau thang 11   khi quay lai truong   alisa da hoan thanh so tin chi con thieu  ',\n",
       " 'thong thuong   hoc sinh co ba nam de hoan thanh 60 tin chi   alisa chi mat bon tuan  ',\n",
       " 'nhu the   em phai lam sau bai kiem tra moi tuan  ',\n",
       " '  thay co deu noi chuyen nay qua kho nhung em van kien tri va co gang     alisa nho lai  ',\n",
       " 'ngoai ra   nhom nam sinh vien khoa tren se thay phien ngoi canh be trong lop   quan sat xem em co hieu bai khong va lam bao cao doc lap voi truong  ',\n",
       " 'me be cung den lop va tham gia khoa hoc cung con  ',\n",
       " 'hang tuan   alisa co ba buoi gap giao vien tam ly de danh gia xem lieu em co thich nghi duoc voi viec hoc hay khong  ',\n",
       " 'neu co bieu hien cang thang hay qua tai   alisa se duoc dung lai  ',\n",
       " 'nguoi me cho biet them   khi nhan alisa vao hoc   tu dau nam   truong da ban bac voi giao vien bo mon   dung lai vi du trong bai hoc   tranh anh huong den tam ly cua be  ',\n",
       " '  giao trinh hoc cua alisa khong co vi du ve bao luc hay tinh duc     nguoi giam ho cua co be noi  ',\n",
       " 'thay andrew codling   truong van phong hieu truong aut   bay to hanh phuc khi dong hanh voi alisa va vicky  ',\n",
       " '  toi tu hao khi chung kien vicky hoan thanh dai hoc   cao hoc va gio chuan bi bac tien si  ',\n",
       " 'co be se tro thanh nha nghien cuu tre nhat new zealand sau khi tot nghiep va alisa cung vay     thay codling chia se  ',\n",
       " 'lop cua alisa co 60 70 sinh vien   tuoi trung binh 23  ',\n",
       " 'alisa dac biet thich mon thiet ke  ',\n",
       " 'co be thoai mai tuong tac cung ban hoc lon tuoi nhung thieu hung thu voi ban be cung lua  ',\n",
       " '  hoi cap 3   em co nhieu ban than la nguoi ban dia   van giao tiep voi ban cung tuoi nhung khong hung thu voi cac chu de  ',\n",
       " 'thay vi ban luan ve chuong trinh moi tren netflix   xu huong tren tiktok   em muon biet lam the nao de so huu mot cong ty nhu vay     alisa nho lai  ',\n",
       " 'cuoi tuan   co be thich choi game online   bong quan   boi loi   ve va om bon con cho bong di ngu  ',\n",
       " '  toi chap nhan viec cac con danh mat the   chuyen nham tien     nhung bang cach nay   cac be biet len ke hoach   tro nen doc lap   truong thanh va co trach nhiem hon     nguoi me noi   cho biet ba nam qua chi khong con phai ban tam voi quan ly chi tieu vi moi tuan hai be gui bao cao tung hang muc  ',\n",
       " 'ngoai hoc   alisa va vicky danh hai ngay cuoi tuan tham gia hoat dong thien nguyen cua ngoi nha tri tue va tu sach nhan ai   trao tang sach cho cac ban nho o viet nam  ',\n",
       " 'ca hai la sang lap vien ngoi nha tri tue new zealand   to chuc cac lop hoc toan   tieng anh   phuong phap hoc tap mien phi cho hoc sinh kho khan  ',\n",
       " 'hai be cung dang dieu hanh quy tu thien gamma soldiers tai tro cho cac ban nho tai nang co hoan canh kho khan tai viet nam va bao tro cho nan nhan bi anh huong boi covid 19  ',\n",
       " 'uoc mo lon nhat cua alisa la tro thanh luat su  ',\n",
       " '  em se quay ve viet nam song va lam viec  ',\n",
       " 'em du dinh hoc nhanh de co bang dai hoc trong hai nam     alisa noi  ',\n",
       " 'binh minh']"
      ]
     },
     "execution_count": 2698,
     "metadata": {},
     "output_type": "execute_result"
    }
   ],
   "source": [
    "[no_accent_vietnamese(clean_str(doc)) for doc in context]"
   ]
  },
  {
   "cell_type": "code",
   "execution_count": 2699,
   "metadata": {},
   "outputs": [],
   "source": [
    "bm25 = BM25Okapi([no_accent_vietnamese(clean_str(doc)).split() for doc in context])"
   ]
  },
  {
   "cell_type": "code",
   "execution_count": 2700,
   "metadata": {},
   "outputs": [
    {
     "data": {
      "text/plain": [
       "array([ 4.01457659,  2.09177434,  6.82213241,  2.59209919,  0.80751439,\n",
       "        2.02772021,  1.20712462,  0.        ,  0.        ,  0.0749829 ,\n",
       "        0.        ,  3.72734326,  4.62581032,  2.49367523,  0.7752914 ,\n",
       "        2.09675026,  0.06324182,  0.78084564,  0.0734674 ,  2.28113203,\n",
       "        2.4522698 ,  2.106421  ,  0.52652758,  1.89675822,  0.10245894,\n",
       "        1.73941295,  0.09965011,  1.74300442,  2.06010299,  2.85286699,\n",
       "        2.96843981,  1.84558959,  0.85996395,  1.75191983,  5.97280143,\n",
       "        4.83961181,  0.75962178,  1.59615513,  2.52607543, 13.61429167,\n",
       "        0.09207741,  2.78009484,  0.71505887,  3.82185888,  2.59851513,\n",
       "        1.90223566,  4.17354051,  2.04481483,  2.61150792,  2.13311147,\n",
       "        0.09447043,  2.92898939,  2.49342279,  0.        ])"
      ]
     },
     "execution_count": 2700,
     "metadata": {},
     "output_type": "execute_result"
    }
   ],
   "source": [
    "query_score = bm25.get_scores(query=query)\n",
    "query_score"
   ]
  },
  {
   "cell_type": "code",
   "execution_count": 2701,
   "metadata": {},
   "outputs": [],
   "source": [
    "def distribute_score(score, arr_len, pos):\n",
    "    if arr_len == 1:\n",
    "        return [score]\n",
    "    myclip_a = 0\n",
    "    myclip_b = 1\n",
    "    my_mean = pos/(arr_len - 1)\n",
    "    my_std = 0.65 / arr_len\n",
    "    \n",
    "    a, b = (myclip_a - my_mean) / my_std, (myclip_b - my_mean) / my_std\n",
    "\n",
    "    x_range = np.linspace(0,1,arr_len)\n",
    "\n",
    "    y = truncnorm.pdf(x_range, a, b, loc = my_mean, scale = my_std)\n",
    "\n",
    "    return score*y/sum(y)\n",
    "    "
   ]
  },
  {
   "cell_type": "code",
   "execution_count": 2702,
   "metadata": {},
   "outputs": [],
   "source": [
    "# final_doc_scores = np.zeros(len(query_score))\n",
    "\n",
    "final_doc_scores = sum([distribute_score(score,len(query_score), idx) for idx, score in enumerate(query_score)])\n",
    "sorted_ids = sorted(range(len(context)), key=lambda k: final_doc_scores[k], reverse=True)"
   ]
  },
  {
   "cell_type": "code",
   "execution_count": 2703,
   "metadata": {},
   "outputs": [
    {
     "data": {
      "text/plain": [
       "[<matplotlib.lines.Line2D at 0x7fb278334fd0>]"
      ]
     },
     "execution_count": 2703,
     "metadata": {},
     "output_type": "execute_result"
    },
    {
     "data": {
      "image/png": "[encoded data removed]",
      "text/plain": [
       "<Figure size 640x480 with 1 Axes>"
      ]
     },
     "metadata": {},
     "output_type": "display_data"
    }
   ],
   "source": [
    "x = range(len(context))\n",
    "\n",
    "plt.plot(x, final_doc_scores)"
   ]
  },
  {
   "cell_type": "code",
   "execution_count": 2704,
   "metadata": {},
   "outputs": [
    {
     "data": {
      "text/plain": [
       "'alisa cho biết, sau khi tốt nghiệp thì sẽ qua mỹ để học tiếp'"
      ]
     },
     "execution_count": 2704,
     "metadata": {},
     "output_type": "execute_result"
    }
   ],
   "source": [
    "claim"
   ]
  },
  {
   "cell_type": "code",
   "execution_count": 2705,
   "metadata": {},
   "outputs": [
    {
     "data": {
      "text/plain": [
       "['Cô bé sẽ trở_thành nhà_nghiên_cứu trẻ nhất New_Zealand sau khi tốt_nghiệp và Alisa cũng vậy \" , thầy Codling chia_sẻ .',\n",
       " 'Chị cho biết gặp Vicky từ khi con chưa phát_lộ khả_năng đặc_biệt .',\n",
       " 'Nếu có biểu_hiện căng_thẳng hay quá_tải , Alisa sẽ được dừng lại .',\n",
       " '\" Tôi tự_hào khi chứng_kiến Vicky hoàn_thành đại_học , cao_học và giờ chuẩn_bị bậc tiến_sĩ .',\n",
       " 'Người mẹ cho biết thêm , khi nhận Alisa vào học , từ đầu năm , trường đã bàn_bạc với giáo_viên bộ_môn , dựng lại ví_dụ trong bài_học , tránh ảnh_hưởng đến tâm_lý của bé .',\n",
       " 'Khi đã thu_hút được sự chú_ý , hai chị_em tiếp_tục câu thứ hai về món ăn yêu thích .',\n",
       " 'Từ khi được biết tới là \" thần_đồng \" , Alisa chăm soi gương và luôn chọn quần_áo đẹp mỗi khi ra đường .',\n",
       " 'Người giám_hộ của hai bé làm_việc trong lĩnh_vực tài_chính , không chia_sẻ kỹ về danh_tính cũng như cuộc_sống riêng .',\n",
       " '\" Tôi chấp_nhận việc các con đánh mất thẻ , chuyển nhầm tiền ... nhưng bằng cách này , các bé biết lên kế_hoạch , trở_nên độc_lập , trưởng_thành và có trách_nhiệm hơn \" , người mẹ nói , cho biết ba năm qua chị không còn phải bận_tâm với quản_lý chi_tiêu vì mỗi tuần hai bé gửi báo_cáo từng hạng_mục .',\n",
       " 'Tò_mò , những đứa trẻ về hỏi bố_mẹ để hôm sau giải_thích với Alisa và Vicky .',\n",
       " 'Lớp của Alisa có 60-70 sinh_viên , tuổi trung_bình 23 .',\n",
       " 'Khi Vicky nổi_tiếng , chị được nhiều người hỏi về cách chọn_lọc để nhận được những người con_nuôi tài_năng .',\n",
       " '\" Hồi cấp 3 , em có nhiều bạn thân là người bản_địa , vẫn giao_tiếp với bạn cùng tuổi nhưng không hứng_thú với các chủ_đề .',\n",
       " '\" Thầy_cô đều nói_chuyện này quá khó nhưng em vẫn kiên_trì và cố_gắng \" , Alisa nhớ lại .',\n",
       " 'Như_thế , em phải làm sáu bài kiểm_tra mỗi tuần .',\n",
       " 'Thay_vì bàn_luận về chương_trình mới trên Netflix , xu_hướng trên TikTok , em muốn biết làm thế_nào để sở_hữu một công_ty như_vậy \" , Alisa nhớ lại .',\n",
       " 'Cứ thế , sau hai tháng , Alisa và chị có_thể trò_chuyện với bạn_bè bằng tiếng Anh .',\n",
       " 'Ngoài học , Alisa và Vicky dành hai ngày cuối tuần tham_gia hoạt_động thiện nguyện của Ngôi nhà trí_tuệ và Tủ_sách nhân_ái , trao_tặng sách cho các bạn nhỏ ở Việt_Nam .',\n",
       " 'Cuối tuần , cô bé thích chơi game online , bóng quần , bơi_lội , vẽ và ôm bốn con chó bông đi ngủ .',\n",
       " 'Cả hai là sáng_lập_viên Ngôi nhà trí_tuệ New_Zealand , tổ_chức các lớp_học Toán , tiếng Anh , phương_pháp học_tập miễn_phí cho học_sinh khó_khăn .',\n",
       " 'Hàng tuần , Alisa có ba buổi gặp giáo_viên tâm_lý để đánh_giá xem liệu em có thích_nghi được với việc học hay không .',\n",
       " 'Alisa giải_thích , em học vượt_cấp dễ_dàng vì chương_trình của New_Zealand có tính ứng_dụng và đề_cao sự sáng_tạo của học_sinh .',\n",
       " '\" Em sẽ quay về Việt_Nam sống và làm_việc .',\n",
       " 'Thông_thường , học_sinh có ba năm để hoàn_thành 60 tín_chỉ , Alisa chỉ mất bốn tuần .',\n",
       " 'Em dự_định học nhanh để có bằng đại_học trong hai năm \" , Alisa nói .',\n",
       " 'Alisa đặc_biệt thích môn Thiết_kế .',\n",
       " 'Em chỉ mất bốn năm để từ lớp hai vào đại_học .',\n",
       " '\" Em cũng muốn tiết_kiệm tiền , bằng cách học vượt , để mẹ đỡ vất_vả \" , Alisa nói .',\n",
       " 'Ngoài_ra , nhóm năm sinh_viên khoá trên sẽ thay phiên ngồi cạnh bé trong lớp , quan_sát xem em có hiểu bài không và làm báo_cáo độc_lập với trường .',\n",
       " 'Hai bé cũng đang điều_hành quỹ từ_thiện Gamma_Soldiers tài_trợ cho các bạn nhỏ tài_năng có hoàn_cảnh khó_khăn tại Việt_Nam và bảo_trợ cho nạn_nhân bị ảnh_hưởng bởi Covid-19 .',\n",
       " '\" Giáo_trình học của Alisa không có ví_dụ về bạo_lực hay tình_dục \" , người giám_hộ của cô bé nói .',\n",
       " 'Thầy Andrew_Codling , trưởng Văn_phòng Hiệu_trưởng AUT , bày_tỏ hạnh_phúc khi đồng_hành với Alisa và Vicky .',\n",
       " 'Cô bé thoải_mái tương_tác cùng bạn học lớn_tuổi nhưng thiếu hứng_thú với bạn_bè cùng lứa .',\n",
       " 'Không biết tiếng Anh nên những tuần đầu , hai chị_em chơi với nhau vì không có bạn .',\n",
       " 'Đầu tháng 11 , khi quay lại trường , Alisa đã hoàn_thành số tín_chỉ còn thiếu .',\n",
       " 'Giáo_dục New_Zealand chú_trọng tính toàn_diện , nên ngoài học_lực , học_sinh được xếp loại dựa trên sáu kỹ_năng , gồm : Intentional - Chủ_động trong môi_trường học , Collaborative - Hợp_tác và làm_việc nhóm , Curious - Sự hiếu_học , Resourceful - Khả_năng xử_lý tình_huống , Connected - Khả_năng tạo mối quan_hệ và Invested - Khả_năng làm_việc bài_bản .',\n",
       " '\" Nhiều người hiểu sai cơ_duyên của hai mẹ_con , nghĩ rằng tôi nhận con_nuôi có mục_đích , tính_toán \" , người mẹ giải_thích lý_do ẩn_danh , để tránh gặp những câu hỏi gây tổn_thương với ba mẹ_con .',\n",
       " 'Ở trường , chị_em Alisa được đánh_giá xuất_sắc theo hai tiêu_chí : học_lực và các kỹ_năng mềm .',\n",
       " 'Trong vòng hai năm , người mẹ đã viết hơn 1.000 email đấu_tranh để hai con được học vượt .',\n",
       " 'Mẹ bé cũng đến lớp và tham_gia khoá học cùng con .',\n",
       " 'Trong khi đó , tháng 8-11/2021 , Auckland bị phong_toả vì dịch_bệnh .',\n",
       " 'Thấy các con chưa_thể hoà_nhập , người mẹ gợi_ý \" năm câu hỏi thần_kỳ \" để làm_quen .',\n",
       " 'Theo người giám_hộ của hai bé , trong hệ_thống giáo_dục New_Zealand , nếu muốn học vượt_cấp , các em cần được xem_xét cụ_thể và được sự đồng_ý của Bộ_trưởng Giáo_dục .',\n",
       " 'Ước_mơ lớn nhất của Alisa là trở_thành luật_sư .',\n",
       " 'Alisa cũng phải hoàn_thành 80 tín_chỉ .',\n",
       " 'Hai chị_em giải_thích tên mình và đặt câu hỏi về ý_nghĩa tên của các bạn trong lớp .',\n",
       " 'Thời_điểm ấy , Alisa mới xong 21 tín_chỉ .',\n",
       " 'Được truyền_cảm hứng từ chị , Alisa hoàn_thành cấp một và cấp hai trong ba năm , cấp ba trong 10 tháng .',\n",
       " 'Vicky có não trái phát_triển , IQ cao , thiên về tính_toán ; còn Alisa phát_triển não phải , EQ cao , có khả_năng ngôn_ngữ , sáng_tạo và nghệ_thuật .',\n",
       " 'Vicky học vượt từ lớp 7 lên_lớp 9 và vào thẳng AUT năm 13 tuổi .',\n",
       " 'Bình_Minh',\n",
       " '\" Mẹ dạy năm câu hỏi về ý_nghĩa cái tên , món ăn yêu thích , bạn đến từ vùng_đất nào , chơi môn thể_thao gì và thích cuốn sách nào nhất .',\n",
       " 'Theo Alisa , Phạm_Vi An nghĩa_là \" bình_an , hạnh_phúc nho_nhỏ \" , còn Ngô_Ngọc_Châu là \" viên ngọc nhỏ \" .',\n",
       " 'Tuy_nhiên mới áp_dụng hai câu_đầu , em đã quen được cả lớp \" , nữ_sinh năm nhất chuyên_ngành Xây_dựng thương_hiệu và quảng_cáo kể .']"
      ]
     },
     "execution_count": 2705,
     "metadata": {},
     "output_type": "execute_result"
    }
   ],
   "source": [
    "[context[i] for i in sorted_ids]"
   ]
  },
  {
   "cell_type": "code",
   "execution_count": 2706,
   "metadata": {},
   "outputs": [],
   "source": [
    "model_max_length = 256\n",
    "claim_tk_length = len(tokenizer(claim).input_ids[:-1])\n",
    "abstract_len = model_max_length - claim_tk_length - 1\n",
    "context_tk_length = [len(tokenizer(s).input_ids[:-1]) for s in context]"
   ]
  },
  {
   "cell_type": "code",
   "execution_count": 2707,
   "metadata": {},
   "outputs": [],
   "source": [
    "fin_len = 0\n",
    "mask = [0 for _ in range(len(sorted_ids))]\n",
    "for i in sorted_ids:\n",
    "    if fin_len + context_tk_length[i] > abstract_len:\n",
    "        break\n",
    "    \n",
    "    fin_len += context_tk_length[i]\n",
    "    mask[i] = 1"
   ]
  },
  {
   "cell_type": "code",
   "execution_count": 2708,
   "metadata": {},
   "outputs": [
    {
     "data": {
      "image/png": "[encoded data removed]",
      "text/plain": [
       "<Figure size 640x480 with 1 Axes>"
      ]
     },
     "metadata": {},
     "output_type": "display_data"
    }
   ],
   "source": [
    "plt.plot(x, mask,color=\"blue\", label=\"selected\")\n",
    "# original\n",
    "plt.plot(x, query_score,color=\"orange\",label=\"original\")\n",
    "# normalized\n",
    "plt.plot(x, final_doc_scores,color=\"green\", label=\"normalized\")\n",
    "plt.legend(loc='best')\n",
    "plt.show()"
   ]
  },
  {
   "cell_type": "code",
   "execution_count": 2709,
   "metadata": {},
   "outputs": [
    {
     "data": {
      "text/plain": [
       "['Từ khi được biết tới là \" thần_đồng \" , Alisa chăm soi gương và luôn chọn quần_áo đẹp mỗi khi ra đường .',\n",
       " 'Người giám_hộ của hai bé làm_việc trong lĩnh_vực tài_chính , không chia_sẻ kỹ về danh_tính cũng như cuộc_sống riêng .',\n",
       " 'Chị cho biết gặp Vicky từ khi con chưa phát_lộ khả_năng đặc_biệt .',\n",
       " 'Khi đã thu_hút được sự chú_ý , hai chị_em tiếp_tục câu thứ hai về món ăn yêu thích .',\n",
       " 'Nếu có biểu_hiện căng_thẳng hay quá_tải , Alisa sẽ được dừng lại .',\n",
       " 'Người mẹ cho biết thêm , khi nhận Alisa vào học , từ đầu năm , trường đã bàn_bạc với giáo_viên bộ_môn , dựng lại ví_dụ trong bài_học , tránh ảnh_hưởng đến tâm_lý của bé .',\n",
       " '\" Tôi tự_hào khi chứng_kiến Vicky hoàn_thành đại_học , cao_học và giờ chuẩn_bị bậc tiến_sĩ .',\n",
       " 'Cô bé sẽ trở_thành nhà_nghiên_cứu trẻ nhất New_Zealand sau khi tốt_nghiệp và Alisa cũng vậy \" , thầy Codling chia_sẻ .']"
      ]
     },
     "execution_count": 2709,
     "metadata": {},
     "output_type": "execute_result"
    }
   ],
   "source": [
    "[context[i] for i in range(len(context)) if mask[i] == 1]"
   ]
  },
  {
   "cell_type": "code",
   "execution_count": 2710,
   "metadata": {},
   "outputs": [
    {
     "data": {
      "text/plain": [
       "'alisa cho biết, sau khi tốt nghiệp thì sẽ qua mỹ để học tiếp'"
      ]
     },
     "execution_count": 2710,
     "metadata": {},
     "output_type": "execute_result"
    }
   ],
   "source": [
    "claim"
   ]
  },
  {
   "cell_type": "markdown",
   "metadata": {},
   "source": [
    "# context slicing\n",
    "slice a single context into multiple smaller context "
   ]
  },
  {
   "cell_type": "code",
   "execution_count": 2711,
   "metadata": {},
   "outputs": [
    {
     "data": {
      "image/png": "[encoded data removed]",
      "text/plain": [
       "<Figure size 640x480 with 1 Axes>"
      ]
     },
     "metadata": {},
     "output_type": "display_data"
    }
   ],
   "source": [
    "plt.plot(x, query_score,color=\"orange\",label=\"original\")\n",
    "plt.show()"
   ]
  },
  {
   "cell_type": "code",
   "execution_count": 2712,
   "metadata": {},
   "outputs": [
    {
     "data": {
      "text/plain": [
       "[26,\n",
       " 21,\n",
       " 15,\n",
       " 22,\n",
       " 40,\n",
       " 20,\n",
       " 19,\n",
       " 34,\n",
       " 26,\n",
       " 26,\n",
       " 19,\n",
       " 20,\n",
       " 20,\n",
       " 20,\n",
       " 20,\n",
       " 71,\n",
       " 33,\n",
       " 19,\n",
       " 25,\n",
       " 13,\n",
       " 23,\n",
       " 23,\n",
       " 32,\n",
       " 21,\n",
       " 9,\n",
       " 16,\n",
       " 11,\n",
       " 19,\n",
       " 19,\n",
       " 12,\n",
       " 21,\n",
       " 31,\n",
       " 13,\n",
       " 26,\n",
       " 15,\n",
       " 38,\n",
       " 24,\n",
       " 24,\n",
       " 18,\n",
       " 25,\n",
       " 13,\n",
       " 8,\n",
       " 17,\n",
       " 28,\n",
       " 32,\n",
       " 26,\n",
       " 63,\n",
       " 35,\n",
       " 25,\n",
       " 36,\n",
       " 11,\n",
       " 11,\n",
       " 18,\n",
       " 2]"
      ]
     },
     "execution_count": 2712,
     "metadata": {},
     "output_type": "execute_result"
    }
   ],
   "source": [
    "context_tk_length\n"
   ]
  },
  {
   "cell_type": "code",
   "execution_count": 2713,
   "metadata": {},
   "outputs": [],
   "source": [
    "def get_longest_continuest_context(tokenized_sents_lenght, start_pos, max_token_number):\n",
    "    if start_pos >= len(tokenized_sents_lenght):\n",
    "        return [], 0\n",
    "    selected = []\n",
    "    curr_length = 0\n",
    "    for idx in range(start_pos, len(tokenized_sents_lenght)):\n",
    "        if curr_length + tokenized_sents_lenght[idx] > max_token_number:\n",
    "            break\n",
    "        selected.append(idx)\n",
    "        curr_length += tokenized_sents_lenght[idx]\n",
    "    \n",
    "    return selected, curr_length"
   ]
  },
  {
   "cell_type": "code",
   "execution_count": 2714,
   "metadata": {},
   "outputs": [],
   "source": [
    "def get_best_continuest_context(tokenized_sents_lenght, query_score, max_token_number=200):\n",
    "    best_context = []\n",
    "    max_score = 0\n",
    "    for i in range(len(tokenized_sents_lenght)):\n",
    "        selected, curr_length = get_longest_continuest_context(tokenized_sents_lenght, start_pos=i, max_token_number=max_token_number)\n",
    "        score = sum([query_score[i] for i in selected])\n",
    "        if score > max_score:\n",
    "            best_context = selected\n",
    "            max_score = score\n",
    "    return best_context, max_score"
   ]
  },
  {
   "cell_type": "code",
   "execution_count": 2715,
   "metadata": {},
   "outputs": [
    {
     "name": "stdout",
     "output_type": "stream",
     "text": [
      "['Hàng tuần , Alisa có ba buổi gặp giáo_viên tâm_lý để đánh_giá xem liệu em có thích_nghi được với việc học hay không .', 'Nếu có biểu_hiện căng_thẳng hay quá_tải , Alisa sẽ được dừng lại .', 'Người mẹ cho biết thêm , khi nhận Alisa vào học , từ đầu năm , trường đã bàn_bạc với giáo_viên bộ_môn , dựng lại ví_dụ trong bài_học , tránh ảnh_hưởng đến tâm_lý của bé .', '\" Giáo_trình học của Alisa không có ví_dụ về bạo_lực hay tình_dục \" , người giám_hộ của cô bé nói .', 'Thầy Andrew_Codling , trưởng Văn_phòng Hiệu_trưởng AUT , bày_tỏ hạnh_phúc khi đồng_hành với Alisa và Vicky .', '\" Tôi tự_hào khi chứng_kiến Vicky hoàn_thành đại_học , cao_học và giờ chuẩn_bị bậc tiến_sĩ .', 'Cô bé sẽ trở_thành nhà_nghiên_cứu trẻ nhất New_Zealand sau khi tốt_nghiệp và Alisa cũng vậy \" , thầy Codling chia_sẻ .', 'Lớp của Alisa có 60-70 sinh_viên , tuổi trung_bình 23 .', 'Alisa đặc_biệt thích môn Thiết_kế .']\n"
     ]
    }
   ],
   "source": [
    "best_context, max_score = get_best_continuest_context(\n",
    "    tokenized_sents_lenght=context_tk_length,\n",
    "    query_score=query_score\n",
    ")\n",
    "\n",
    "print([context[i] for i in best_context])"
   ]
  },
  {
   "cell_type": "code",
   "execution_count": 2716,
   "metadata": {},
   "outputs": [],
   "source": [
    "def slice_context(tokenized_sents_lenght, number_of_contexts, query_score, max_token_number=200):\n",
    "    qscores = copy.copy(query_score)\n",
    "    selected = []\n",
    "\n",
    "    for _ in range(number_of_contexts*2):\n",
    "        if len(selected) >= number_of_contexts:\n",
    "            break\n",
    "        best_context, max_score = get_best_continuest_context(\n",
    "            tokenized_sents_lenght=context_tk_length,\n",
    "            query_score=qscores,\n",
    "            max_token_number=max_token_number\n",
    "        )\n",
    "        \n",
    "        # reduce the score of the selected context\n",
    "\n",
    "        for i in best_context:\n",
    "            qscores[i] /= 3.5\n",
    "        print(max_score)\n",
    "        if best_context not in selected:\n",
    "            selected.append(best_context)\n",
    "    return selected"
   ]
  },
  {
   "cell_type": "code",
   "execution_count": 2717,
   "metadata": {},
   "outputs": [],
   "source": [
    "MODEL_MAX_TOKEN = 500"
   ]
  },
  {
   "cell_type": "code",
   "execution_count": 2718,
   "metadata": {},
   "outputs": [
    {
     "data": {
      "text/plain": [
       "4"
      ]
     },
     "execution_count": 2718,
     "metadata": {},
     "output_type": "execute_result"
    }
   ],
   "source": [
    "math.ceil(sum(context_tk_length)*1.25/MODEL_MAX_TOKEN)"
   ]
  },
  {
   "cell_type": "code",
   "execution_count": 2719,
   "metadata": {},
   "outputs": [
    {
     "name": "stdout",
     "output_type": "stream",
     "text": [
      "62.00416546404296\n",
      "34.274349979719304\n",
      "31.971913008022373\n",
      "10.906006777361165\n"
     ]
    },
    {
     "data": {
      "text/plain": [
       "[[19,\n",
       "  20,\n",
       "  21,\n",
       "  22,\n",
       "  23,\n",
       "  24,\n",
       "  25,\n",
       "  26,\n",
       "  27,\n",
       "  28,\n",
       "  29,\n",
       "  30,\n",
       "  31,\n",
       "  32,\n",
       "  33,\n",
       "  34,\n",
       "  35,\n",
       "  36,\n",
       "  37,\n",
       "  38,\n",
       "  39,\n",
       "  40,\n",
       "  41,\n",
       "  42,\n",
       "  43],\n",
       " [0, 1, 2, 3, 4, 5, 6, 7, 8, 9, 10, 11, 12, 13, 14, 15, 16, 17, 18],\n",
       " [33,\n",
       "  34,\n",
       "  35,\n",
       "  36,\n",
       "  37,\n",
       "  38,\n",
       "  39,\n",
       "  40,\n",
       "  41,\n",
       "  42,\n",
       "  43,\n",
       "  44,\n",
       "  45,\n",
       "  46,\n",
       "  47,\n",
       "  48,\n",
       "  49,\n",
       "  50,\n",
       "  51,\n",
       "  52,\n",
       "  53],\n",
       " [11,\n",
       "  12,\n",
       "  13,\n",
       "  14,\n",
       "  15,\n",
       "  16,\n",
       "  17,\n",
       "  18,\n",
       "  19,\n",
       "  20,\n",
       "  21,\n",
       "  22,\n",
       "  23,\n",
       "  24,\n",
       "  25,\n",
       "  26,\n",
       "  27,\n",
       "  28,\n",
       "  29,\n",
       "  30,\n",
       "  31,\n",
       "  32]]"
      ]
     },
     "execution_count": 2719,
     "metadata": {},
     "output_type": "execute_result"
    }
   ],
   "source": [
    "res = slice_context(\n",
    "    tokenized_sents_lenght=context_tk_length,\n",
    "    number_of_contexts = math.ceil(sum(context_tk_length)*1.2/MODEL_MAX_TOKEN),\n",
    "    query_score=query_score,\n",
    "    max_token_number=MODEL_MAX_TOKEN\n",
    ")\n",
    "res"
   ]
  },
  {
   "cell_type": "code",
   "execution_count": 2720,
   "metadata": {},
   "outputs": [
    {
     "data": {
      "image/png": "[encoded data removed]",
      "text/plain": [
       "<Figure size 640x480 with 1 Axes>"
      ]
     },
     "metadata": {},
     "output_type": "display_data"
    }
   ],
   "source": [
    "\n",
    "for idx,sl in enumerate(res):\n",
    "    plt.plot(sl, [1 + idx for _ in range(len(sl))], label=\"context \" + str(idx))\n",
    "plt.plot(x, query_score,color=\"orange\",label=\"relevancy\")\n",
    "plt.legend(loc='best')\n",
    "\n",
    "plt.show()\n"
   ]
  },
  {
   "cell_type": "code",
   "execution_count": 2721,
   "metadata": {},
   "outputs": [
    {
     "data": {
      "text/plain": [
       "1254"
      ]
     },
     "execution_count": 2721,
     "metadata": {},
     "output_type": "execute_result"
    }
   ],
   "source": [
    "sum(context_tk_length)"
   ]
  },
  {
   "cell_type": "code",
   "execution_count": 2722,
   "metadata": {},
   "outputs": [
    {
     "data": {
      "text/plain": [
       "'alisa cho biết, sau khi tốt nghiệp thì sẽ qua mỹ để học tiếp'"
      ]
     },
     "execution_count": 2722,
     "metadata": {},
     "output_type": "execute_result"
    }
   ],
   "source": [
    "claim"
   ]
  },
  {
   "cell_type": "code",
   "execution_count": 2723,
   "metadata": {},
   "outputs": [
    {
     "data": {
      "text/plain": [
       "[['Em chỉ mất bốn năm để từ lớp hai vào đại_học .',\n",
       "  'Alisa giải_thích , em học vượt_cấp dễ_dàng vì chương_trình của New_Zealand có tính ứng_dụng và đề_cao sự sáng_tạo của học_sinh .',\n",
       "  '\" Em cũng muốn tiết_kiệm tiền , bằng cách học vượt , để mẹ đỡ vất_vả \" , Alisa nói .',\n",
       "  'Theo người giám_hộ của hai bé , trong hệ_thống giáo_dục New_Zealand , nếu muốn học vượt_cấp , các em cần được xem_xét cụ_thể và được sự đồng_ý của Bộ_trưởng Giáo_dục .',\n",
       "  'Trong vòng hai năm , người mẹ đã viết hơn 1.000 email đấu_tranh để hai con được học vượt .',\n",
       "  'Alisa cũng phải hoàn_thành 80 tín_chỉ .',\n",
       "  'Trong khi đó , tháng 8-11/2021 , Auckland bị phong_toả vì dịch_bệnh .',\n",
       "  'Thời_điểm ấy , Alisa mới xong 21 tín_chỉ .',\n",
       "  'Đầu tháng 11 , khi quay lại trường , Alisa đã hoàn_thành số tín_chỉ còn thiếu .',\n",
       "  'Thông_thường , học_sinh có ba năm để hoàn_thành 60 tín_chỉ , Alisa chỉ mất bốn tuần .',\n",
       "  'Như_thế , em phải làm sáu bài kiểm_tra mỗi tuần .',\n",
       "  '\" Thầy_cô đều nói_chuyện này quá khó nhưng em vẫn kiên_trì và cố_gắng \" , Alisa nhớ lại .',\n",
       "  'Ngoài_ra , nhóm năm sinh_viên khoá trên sẽ thay phiên ngồi cạnh bé trong lớp , quan_sát xem em có hiểu bài không và làm báo_cáo độc_lập với trường .',\n",
       "  'Mẹ bé cũng đến lớp và tham_gia khoá học cùng con .',\n",
       "  'Hàng tuần , Alisa có ba buổi gặp giáo_viên tâm_lý để đánh_giá xem liệu em có thích_nghi được với việc học hay không .',\n",
       "  'Nếu có biểu_hiện căng_thẳng hay quá_tải , Alisa sẽ được dừng lại .',\n",
       "  'Người mẹ cho biết thêm , khi nhận Alisa vào học , từ đầu năm , trường đã bàn_bạc với giáo_viên bộ_môn , dựng lại ví_dụ trong bài_học , tránh ảnh_hưởng đến tâm_lý của bé .',\n",
       "  '\" Giáo_trình học của Alisa không có ví_dụ về bạo_lực hay tình_dục \" , người giám_hộ của cô bé nói .',\n",
       "  'Thầy Andrew_Codling , trưởng Văn_phòng Hiệu_trưởng AUT , bày_tỏ hạnh_phúc khi đồng_hành với Alisa và Vicky .',\n",
       "  '\" Tôi tự_hào khi chứng_kiến Vicky hoàn_thành đại_học , cao_học và giờ chuẩn_bị bậc tiến_sĩ .',\n",
       "  'Cô bé sẽ trở_thành nhà_nghiên_cứu trẻ nhất New_Zealand sau khi tốt_nghiệp và Alisa cũng vậy \" , thầy Codling chia_sẻ .',\n",
       "  'Lớp của Alisa có 60-70 sinh_viên , tuổi trung_bình 23 .',\n",
       "  'Alisa đặc_biệt thích môn Thiết_kế .',\n",
       "  'Cô bé thoải_mái tương_tác cùng bạn học lớn_tuổi nhưng thiếu hứng_thú với bạn_bè cùng lứa .',\n",
       "  '\" Hồi cấp 3 , em có nhiều bạn thân là người bản_địa , vẫn giao_tiếp với bạn cùng tuổi nhưng không hứng_thú với các chủ_đề .'],\n",
       " ['Từ khi được biết tới là \" thần_đồng \" , Alisa chăm soi gương và luôn chọn quần_áo đẹp mỗi khi ra đường .',\n",
       "  'Người giám_hộ của hai bé làm_việc trong lĩnh_vực tài_chính , không chia_sẻ kỹ về danh_tính cũng như cuộc_sống riêng .',\n",
       "  'Chị cho biết gặp Vicky từ khi con chưa phát_lộ khả_năng đặc_biệt .',\n",
       "  'Khi Vicky nổi_tiếng , chị được nhiều người hỏi về cách chọn_lọc để nhận được những người con_nuôi tài_năng .',\n",
       "  '\" Nhiều người hiểu sai cơ_duyên của hai mẹ_con , nghĩ rằng tôi nhận con_nuôi có mục_đích , tính_toán \" , người mẹ giải_thích lý_do ẩn_danh , để tránh gặp những câu hỏi gây tổn_thương với ba mẹ_con .',\n",
       "  'Không biết tiếng Anh nên những tuần đầu , hai chị_em chơi với nhau vì không có bạn .',\n",
       "  'Thấy các con chưa_thể hoà_nhập , người mẹ gợi_ý \" năm câu hỏi thần_kỳ \" để làm_quen .',\n",
       "  '\" Mẹ dạy năm câu hỏi về ý_nghĩa cái tên , món ăn yêu thích , bạn đến từ vùng_đất nào , chơi môn thể_thao gì và thích cuốn sách nào nhất .',\n",
       "  'Tuy_nhiên mới áp_dụng hai câu_đầu , em đã quen được cả lớp \" , nữ_sinh năm nhất chuyên_ngành Xây_dựng thương_hiệu và quảng_cáo kể .',\n",
       "  'Theo Alisa , Phạm_Vi An nghĩa_là \" bình_an , hạnh_phúc nho_nhỏ \" , còn Ngô_Ngọc_Châu là \" viên ngọc nhỏ \" .',\n",
       "  'Hai chị_em giải_thích tên mình và đặt câu hỏi về ý_nghĩa tên của các bạn trong lớp .',\n",
       "  'Tò_mò , những đứa trẻ về hỏi bố_mẹ để hôm sau giải_thích với Alisa và Vicky .',\n",
       "  'Khi đã thu_hút được sự chú_ý , hai chị_em tiếp_tục câu thứ hai về món ăn yêu thích .',\n",
       "  'Cứ thế , sau hai tháng , Alisa và chị có_thể trò_chuyện với bạn_bè bằng tiếng Anh .',\n",
       "  'Ở trường , chị_em Alisa được đánh_giá xuất_sắc theo hai tiêu_chí : học_lực và các kỹ_năng mềm .',\n",
       "  'Giáo_dục New_Zealand chú_trọng tính toàn_diện , nên ngoài học_lực , học_sinh được xếp loại dựa trên sáu kỹ_năng , gồm : Intentional - Chủ_động trong môi_trường học , Collaborative - Hợp_tác và làm_việc nhóm , Curious - Sự hiếu_học , Resourceful - Khả_năng xử_lý tình_huống , Connected - Khả_năng tạo mối quan_hệ và Invested - Khả_năng làm_việc bài_bản .',\n",
       "  'Vicky có não trái phát_triển , IQ cao , thiên về tính_toán ; còn Alisa phát_triển não phải , EQ cao , có khả_năng ngôn_ngữ , sáng_tạo và nghệ_thuật .',\n",
       "  'Vicky học vượt từ lớp 7 lên_lớp 9 và vào thẳng AUT năm 13 tuổi .',\n",
       "  'Được truyền_cảm hứng từ chị , Alisa hoàn_thành cấp một và cấp hai trong ba năm , cấp ba trong 10 tháng .'],\n",
       " ['Hàng tuần , Alisa có ba buổi gặp giáo_viên tâm_lý để đánh_giá xem liệu em có thích_nghi được với việc học hay không .',\n",
       "  'Nếu có biểu_hiện căng_thẳng hay quá_tải , Alisa sẽ được dừng lại .',\n",
       "  'Người mẹ cho biết thêm , khi nhận Alisa vào học , từ đầu năm , trường đã bàn_bạc với giáo_viên bộ_môn , dựng lại ví_dụ trong bài_học , tránh ảnh_hưởng đến tâm_lý của bé .',\n",
       "  '\" Giáo_trình học của Alisa không có ví_dụ về bạo_lực hay tình_dục \" , người giám_hộ của cô bé nói .',\n",
       "  'Thầy Andrew_Codling , trưởng Văn_phòng Hiệu_trưởng AUT , bày_tỏ hạnh_phúc khi đồng_hành với Alisa và Vicky .',\n",
       "  '\" Tôi tự_hào khi chứng_kiến Vicky hoàn_thành đại_học , cao_học và giờ chuẩn_bị bậc tiến_sĩ .',\n",
       "  'Cô bé sẽ trở_thành nhà_nghiên_cứu trẻ nhất New_Zealand sau khi tốt_nghiệp và Alisa cũng vậy \" , thầy Codling chia_sẻ .',\n",
       "  'Lớp của Alisa có 60-70 sinh_viên , tuổi trung_bình 23 .',\n",
       "  'Alisa đặc_biệt thích môn Thiết_kế .',\n",
       "  'Cô bé thoải_mái tương_tác cùng bạn học lớn_tuổi nhưng thiếu hứng_thú với bạn_bè cùng lứa .',\n",
       "  '\" Hồi cấp 3 , em có nhiều bạn thân là người bản_địa , vẫn giao_tiếp với bạn cùng tuổi nhưng không hứng_thú với các chủ_đề .',\n",
       "  'Thay_vì bàn_luận về chương_trình mới trên Netflix , xu_hướng trên TikTok , em muốn biết làm thế_nào để sở_hữu một công_ty như_vậy \" , Alisa nhớ lại .',\n",
       "  'Cuối tuần , cô bé thích chơi game online , bóng quần , bơi_lội , vẽ và ôm bốn con chó bông đi ngủ .',\n",
       "  '\" Tôi chấp_nhận việc các con đánh mất thẻ , chuyển nhầm tiền ... nhưng bằng cách này , các bé biết lên kế_hoạch , trở_nên độc_lập , trưởng_thành và có trách_nhiệm hơn \" , người mẹ nói , cho biết ba năm qua chị không còn phải bận_tâm với quản_lý chi_tiêu vì mỗi tuần hai bé gửi báo_cáo từng hạng_mục .',\n",
       "  'Ngoài học , Alisa và Vicky dành hai ngày cuối tuần tham_gia hoạt_động thiện nguyện của Ngôi nhà trí_tuệ và Tủ_sách nhân_ái , trao_tặng sách cho các bạn nhỏ ở Việt_Nam .',\n",
       "  'Cả hai là sáng_lập_viên Ngôi nhà trí_tuệ New_Zealand , tổ_chức các lớp_học Toán , tiếng Anh , phương_pháp học_tập miễn_phí cho học_sinh khó_khăn .',\n",
       "  'Hai bé cũng đang điều_hành quỹ từ_thiện Gamma_Soldiers tài_trợ cho các bạn nhỏ tài_năng có hoàn_cảnh khó_khăn tại Việt_Nam và bảo_trợ cho nạn_nhân bị ảnh_hưởng bởi Covid-19 .',\n",
       "  'Ước_mơ lớn nhất của Alisa là trở_thành luật_sư .',\n",
       "  '\" Em sẽ quay về Việt_Nam sống và làm_việc .',\n",
       "  'Em dự_định học nhanh để có bằng đại_học trong hai năm \" , Alisa nói .',\n",
       "  'Bình_Minh'],\n",
       " ['Tò_mò , những đứa trẻ về hỏi bố_mẹ để hôm sau giải_thích với Alisa và Vicky .',\n",
       "  'Khi đã thu_hút được sự chú_ý , hai chị_em tiếp_tục câu thứ hai về món ăn yêu thích .',\n",
       "  'Cứ thế , sau hai tháng , Alisa và chị có_thể trò_chuyện với bạn_bè bằng tiếng Anh .',\n",
       "  'Ở trường , chị_em Alisa được đánh_giá xuất_sắc theo hai tiêu_chí : học_lực và các kỹ_năng mềm .',\n",
       "  'Giáo_dục New_Zealand chú_trọng tính toàn_diện , nên ngoài học_lực , học_sinh được xếp loại dựa trên sáu kỹ_năng , gồm : Intentional - Chủ_động trong môi_trường học , Collaborative - Hợp_tác và làm_việc nhóm , Curious - Sự hiếu_học , Resourceful - Khả_năng xử_lý tình_huống , Connected - Khả_năng tạo mối quan_hệ và Invested - Khả_năng làm_việc bài_bản .',\n",
       "  'Vicky có não trái phát_triển , IQ cao , thiên về tính_toán ; còn Alisa phát_triển não phải , EQ cao , có khả_năng ngôn_ngữ , sáng_tạo và nghệ_thuật .',\n",
       "  'Vicky học vượt từ lớp 7 lên_lớp 9 và vào thẳng AUT năm 13 tuổi .',\n",
       "  'Được truyền_cảm hứng từ chị , Alisa hoàn_thành cấp một và cấp hai trong ba năm , cấp ba trong 10 tháng .',\n",
       "  'Em chỉ mất bốn năm để từ lớp hai vào đại_học .',\n",
       "  'Alisa giải_thích , em học vượt_cấp dễ_dàng vì chương_trình của New_Zealand có tính ứng_dụng và đề_cao sự sáng_tạo của học_sinh .',\n",
       "  '\" Em cũng muốn tiết_kiệm tiền , bằng cách học vượt , để mẹ đỡ vất_vả \" , Alisa nói .',\n",
       "  'Theo người giám_hộ của hai bé , trong hệ_thống giáo_dục New_Zealand , nếu muốn học vượt_cấp , các em cần được xem_xét cụ_thể và được sự đồng_ý của Bộ_trưởng Giáo_dục .',\n",
       "  'Trong vòng hai năm , người mẹ đã viết hơn 1.000 email đấu_tranh để hai con được học vượt .',\n",
       "  'Alisa cũng phải hoàn_thành 80 tín_chỉ .',\n",
       "  'Trong khi đó , tháng 8-11/2021 , Auckland bị phong_toả vì dịch_bệnh .',\n",
       "  'Thời_điểm ấy , Alisa mới xong 21 tín_chỉ .',\n",
       "  'Đầu tháng 11 , khi quay lại trường , Alisa đã hoàn_thành số tín_chỉ còn thiếu .',\n",
       "  'Thông_thường , học_sinh có ba năm để hoàn_thành 60 tín_chỉ , Alisa chỉ mất bốn tuần .',\n",
       "  'Như_thế , em phải làm sáu bài kiểm_tra mỗi tuần .',\n",
       "  '\" Thầy_cô đều nói_chuyện này quá khó nhưng em vẫn kiên_trì và cố_gắng \" , Alisa nhớ lại .',\n",
       "  'Ngoài_ra , nhóm năm sinh_viên khoá trên sẽ thay phiên ngồi cạnh bé trong lớp , quan_sát xem em có hiểu bài không và làm báo_cáo độc_lập với trường .',\n",
       "  'Mẹ bé cũng đến lớp và tham_gia khoá học cùng con .']]"
      ]
     },
     "execution_count": 2723,
     "metadata": {},
     "output_type": "execute_result"
    }
   ],
   "source": [
    "[[context[i] for i in sl] for sl in res]"
   ]
  }
 ],
 "metadata": {
  "kernelspec": {
   "display_name": "dev",
   "language": "python",
   "name": "python3"
  },
  "language_info": {
   "codemirror_mode": {
    "name": "ipython",
    "version": 3
   },
   "file_extension": ".py",
   "mimetype": "text/x-python",
   "name": "python",
   "nbconvert_exporter": "python",
   "pygments_lexer": "ipython3",
   "version": "3.11.5"
  },
  "orig_nbformat": 4
 },
 "nbformat": 4,
 "nbformat_minor": 2
}
