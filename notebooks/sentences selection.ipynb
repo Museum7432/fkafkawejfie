{
 "cells": [
  {
   "cell_type": "code",
   "execution_count": 41,
   "metadata": {},
   "outputs": [],
   "source": [
    "from transformers import AutoTokenizer, AutoModelForSeq2SeqLM\n",
    "import pandas as pd\n",
    "import json\n",
    "import os\n",
    "import py_vncorenlp\n",
    "from underthesea import sent_tokenize\n",
    "import numpy as np\n",
    "from rank_bm25 import BM25Okapi\n",
    "from numpy.random import normal\n",
    "from scipy.stats import truncnorm, boxcox, gamma\n",
    "import matplotlib.pyplot as plt\n",
    "\n",
    "import os, sys\n",
    "sys.path.append(\"../src\")\n",
    "\n",
    "from sentences_selection import select_sentences"
   ]
  },
  {
   "cell_type": "code",
   "execution_count": 2,
   "metadata": {},
   "outputs": [
    {
     "name": "stdout",
     "output_type": "stream",
     "text": [
      "2023-10-22 20:36:21 INFO  WordSegmenter:24 - Loading Word Segmentation model\n"
     ]
    }
   ],
   "source": [
    "rdrsegmenter = py_vncorenlp.VnCoreNLP(annotators=[\"wseg\"], save_dir=os.path.abspath('../vncorenlp'))"
   ]
  },
  {
   "cell_type": "code",
   "execution_count": 3,
   "metadata": {},
   "outputs": [],
   "source": [
    "tokenizer = AutoTokenizer.from_pretrained(\"xlm-roberta-large\")"
   ]
  },
  {
   "cell_type": "code",
   "execution_count": 4,
   "metadata": {},
   "outputs": [],
   "source": [
    "import re\n",
    "def no_accent_vietnamese(s):\n",
    "    s = re.sub(r'[àáạảãâầấậẩẫăằắặẳẵ]', 'a', s)\n",
    "    s = re.sub(r'[ÀÁẠẢÃĂẰẮẶẲẴÂẦẤẬẨẪ]', 'A', s)\n",
    "    s = re.sub(r'[èéẹẻẽêềếệểễ]', 'e', s)\n",
    "    s = re.sub(r'[ÈÉẸẺẼÊỀẾỆỂỄ]', 'E', s)\n",
    "    s = re.sub(r'[òóọỏõôồốộổỗơờớợởỡ]', 'o', s)\n",
    "    s = re.sub(r'[ÒÓỌỎÕÔỒỐỘỔỖƠỜỚỢỞỠ]', 'O', s)\n",
    "    s = re.sub(r'[ìíịỉĩ]', 'i', s)\n",
    "    s = re.sub(r'[ÌÍỊỈĨ]', 'I', s)\n",
    "    s = re.sub(r'[ùúụủũưừứựửữ]', 'u', s)\n",
    "    s = re.sub(r'[ƯỪỨỰỬỮÙÚỤỦŨ]', 'U', s)\n",
    "    s = re.sub(r'[ỳýỵỷỹ]', 'y', s)\n",
    "    s = re.sub(r'[ỲÝỴỶỸ]', 'Y', s)\n",
    "    s = re.sub(r'[Đ]', 'D', s)\n",
    "    s = re.sub(r'[đ]', 'd', s)\n",
    "    return s\n",
    "\n",
    "def sentences_splitting(text, rdrsegmenter=rdrsegmenter):\n",
    "\n",
    "    text_lower = no_accent_vietnamese(text.lower())\n",
    "    \n",
    "    original_sents=[]\n",
    "    processed_sents = []\n",
    "    \n",
    "    text_pos = 0\n",
    "    for _, sent in rdrsegmenter.annotate_text(text).items():\n",
    "        words = [w[\"wordForm\"] for w in sent]\n",
    "        words = [w.replace(\"_\", \" \") if w != \"_\" else \"_\" for w in words]\n",
    "\n",
    "        processed_sents.append(\" \".join(words))\n",
    "\n",
    "        words = [no_accent_vietnamese(w.lower()) for w in words]\n",
    "        words = sum([w.split() for w in words],[])\n",
    "\n",
    "\n",
    "        # find position of words in text_lower\n",
    "        pos_start = []\n",
    "        pos_end = []\n",
    "\n",
    "        for w in words:\n",
    "            idx = text_lower.find(w,text_pos)\n",
    "\n",
    "            pos_start.append(idx)\n",
    "            pos_end.append(idx + len(w))\n",
    "\n",
    "            text_pos = idx + len(w)\n",
    "        \n",
    "        # for testing\n",
    "        # test = [text_lower[pos_start[i]: pos_end[i]] for i in range(len(pos_start))]\n",
    "        # assert test == words\n",
    "\n",
    "        original_sents.append(text[pos_start[0]: pos_end[-1]])\n",
    "    return original_sents, processed_sents\n"
   ]
  },
  {
   "cell_type": "code",
   "execution_count": 5,
   "metadata": {},
   "outputs": [],
   "source": [
    "data = pd.read_json(\"../datasets/ise-dsc01-public-test-offcial.json\", orient=\"index\")"
   ]
  },
  {
   "cell_type": "code",
   "execution_count": 6,
   "metadata": {},
   "outputs": [],
   "source": [
    "idx = 29706"
   ]
  },
  {
   "cell_type": "code",
   "execution_count": 7,
   "metadata": {},
   "outputs": [],
   "source": [
    "idx = 29706\n",
    "text = data.loc[idx][\"context\"]\n",
    "claim = data.loc[idx][\"claim\"]\n",
    "context = rdrsegmenter.word_segment(text)"
   ]
  },
  {
   "cell_type": "code",
   "execution_count": 8,
   "metadata": {},
   "outputs": [],
   "source": [
    "def clean_str(s):\n",
    "    return ''.join(e.lower() if e.isalnum() else \" \" for e in s)"
   ]
  },
  {
   "cell_type": "code",
   "execution_count": 30,
   "metadata": {},
   "outputs": [
    {
     "data": {
      "text/plain": [
       "['nen',\n",
       " 'kiem',\n",
       " 'tra',\n",
       " 'gene',\n",
       " 'tre',\n",
       " 'so',\n",
       " 'sinh',\n",
       " 'khi',\n",
       " 'gia',\n",
       " 'dinh',\n",
       " 'co',\n",
       " 'nguoi',\n",
       " 'ung',\n",
       " 'thu',\n",
       " 'de',\n",
       " 'len',\n",
       " 'ke',\n",
       " 'hoach',\n",
       " 'phong',\n",
       " 'ngua',\n",
       " 'dieu',\n",
       " 'tri',\n",
       " 'som']"
      ]
     },
     "execution_count": 30,
     "metadata": {},
     "output_type": "execute_result"
    }
   ],
   "source": [
    "query = no_accent_vietnamese(clean_str(claim)).split()\n",
    "query"
   ]
  },
  {
   "cell_type": "code",
   "execution_count": 31,
   "metadata": {},
   "outputs": [
    {
     "data": {
      "text/plain": [
       "['ngay 13 3   pgs ts pham cam phuong   giam doc trung tam y hoc hat nhan va ung buou   benh vien bach mai   cho biet nhu tren sau khi tiep nhan mot benh nhan nu mac ung thu vu va ung thu buong trung  ',\n",
       " 'nguoi nay nam 39 tuoi phat hien ung thu vu the ong xam nhap   da phau thuat   hoa tri on dinh  ',\n",
       " 'bon nam sau   chi tai kham va phat hien ung thu buong trung the thanh dich do cao  ',\n",
       " 'ca hai the ung thu nay deu lien quan den di truyen do mang dot bien gene  ',\n",
       " 'me va di ruot cua benh nhan   vao nam 50 tuoi cung phat hien ung thu buong trung   da phau thuat va hoa tri  ',\n",
       " 'do do   benh nhan duoc chan doan mac hoi chung ung thu vu   buong trung di truyen   ket qua xet nghiem phat hien dot bien gene brca   la nguyen nhan gay ung thu  ',\n",
       " 'theo tien si phuong   5 15  truong hop ung thu tai viet nam lien quan den di truyen   pho bien la ung thu vu   buong trung   dai truc trang   noi mac tu cung   ung thu tuyen giap the tuy   ung thu tuy   tien liet tuyen  ',\n",
       " 'gia dinh co nguoi mac cac loai ung thu nay can duoc tu van ve di truyen de danh gia nguy co  ',\n",
       " 'voi nguoi da duoc chan doan ung thu   bac si phan tich cac dac diem benh ty le cao lien quan den di truyen do mang cac dot bien gene   nhu ung thu vu khi con tre tuoi   nhieu khoi u o ca hai ben vu   ung thu vu voi the bo ba gene am tinh gom er         pr         heu 2   neu         ung thu buong trung the bieu mo thanh dich do cao  ',\n",
       " 'sau do   bac si danh gia nguy co xuat hien cung luc cac loai ung thu khac  ',\n",
       " 'truong hop nguoi nha chua mac ung thu   bac si se phan tich pha he   kha nang di truyen   nguy co benh   tu do dua ra loi khuyen   ke hoach tam soat   sang loc phu hop tung ca nhan  ',\n",
       " 'tuy truong hop   bac si se chi dinh xet nghiem gene   tam soat som neu nguy co cao  ',\n",
       " 'nhu benh nhan tren   bac si da tu van ve di truyen cho ca gia dinh   len ke hoach dieu tri cung nhu tam soat som tat ca thanh vien  ',\n",
       " 'ung thu di truyen duoc bao cao lan dau tien vao nam 1969 boi hai tien si frederick li va joseph fraumeni tu vien ung thu quoc gia my  ',\n",
       " 'dac diem cua hoi chung nay la nhieu loai ung thu xuat hien o nhieu the he cung mot gia dinh  ',\n",
       " 'cac nha khoa hoc phat hien nguy co phat trien ung thu moi cao hon qua cac the he va do tuoi phat sinh ung thu cung o giai doan som hon thong thuong  ',\n",
       " 'nhung loai ung thu di truyen pho bien gom cac benh sarcoma   nhu ung thu xuong   ung thu mo mem     bach cau cap   ung thu nao   ung thu vo thuong than va ung thu vu  ',\n",
       " 'nhung chi dau cho ung thu do dot bien gene di truyen la   benh o do tuoi tre hon binh thuong   nhieu loai ung thu o mot nguoi   nhu benh nhan tren mac ung thu vu va ung thu buong trung     ung thu tai hai bo phan co the   nhu ca hai mat   ca hai than hoac ca hai vu     anh chi em ruot mac nhieu hon mot benh ung thu   nhu sarcoma o ca anh trai va em gai     ung thu xay ra o nhieu the he   nhu ca ong   cha va con trai    ',\n",
       " 'thuy quynh']"
      ]
     },
     "execution_count": 31,
     "metadata": {},
     "output_type": "execute_result"
    }
   ],
   "source": [
    "[no_accent_vietnamese(clean_str(doc)) for doc in context]"
   ]
  },
  {
   "cell_type": "code",
   "execution_count": 34,
   "metadata": {},
   "outputs": [],
   "source": [
    "bm25 = BM25Okapi([no_accent_vietnamese(clean_str(doc)).split() for doc in context])"
   ]
  },
  {
   "cell_type": "code",
   "execution_count": 35,
   "metadata": {},
   "outputs": [
    {
     "data": {
      "text/plain": [
       "array([ 3.04519764,  5.3049452 ,  1.21596995,  2.47142009,  2.85831564,\n",
       "        2.34387915,  1.63817597,  9.05385777,  5.50939124,  3.40180506,\n",
       "        6.01978008,  5.27910083, 14.45181801,  2.45656567,  3.46120151,\n",
       "        6.06252534,  1.9217468 ,  4.06783816,  0.        ])"
      ]
     },
     "execution_count": 35,
     "metadata": {},
     "output_type": "execute_result"
    }
   ],
   "source": [
    "query_score = bm25.get_scores(query=query)\n",
    "query_score"
   ]
  },
  {
   "cell_type": "code",
   "execution_count": 36,
   "metadata": {},
   "outputs": [],
   "source": [
    "def distribute_score(score, arr_len, pos):\n",
    "    myclip_a = 0\n",
    "    myclip_b = 1\n",
    "    my_mean = pos/arr_len\n",
    "    my_std = 0.7 / arr_len\n",
    "    \n",
    "    a, b = (myclip_a - my_mean) / my_std, (myclip_b - my_mean) / my_std\n",
    "\n",
    "    x_range = np.linspace(0,1,arr_len)\n",
    "\n",
    "    y = truncnorm.pdf(x_range, a, b, loc = my_mean, scale = my_std)\n",
    "\n",
    "    return score*y/sum(y)\n",
    "    "
   ]
  },
  {
   "cell_type": "code",
   "execution_count": 37,
   "metadata": {},
   "outputs": [],
   "source": [
    "# final_doc_scores = np.zeros(len(query_score))\n",
    "\n",
    "final_doc_scores = sum([distribute_score(score,len(query_score), idx) for idx, score in enumerate(query_score)])\n",
    "sorted_ids = sorted(range(len(context)), key=lambda k: final_doc_scores[k], reverse=True)"
   ]
  },
  {
   "cell_type": "code",
   "execution_count": 38,
   "metadata": {},
   "outputs": [
    {
     "data": {
      "text/plain": [
       "[<matplotlib.lines.Line2D at 0x7f6e2db3fc50>]"
      ]
     },
     "execution_count": 38,
     "metadata": {},
     "output_type": "execute_result"
    },
    {
     "data": {
      "image/png": "[encoded data removed]",
      "text/plain": [
       "<Figure size 640x480 with 1 Axes>"
      ]
     },
     "metadata": {},
     "output_type": "display_data"
    }
   ],
   "source": [
    "x = range(len(context))\n",
    "\n",
    "plt.plot(x, final_doc_scores)"
   ]
  },
  {
   "cell_type": "code",
   "execution_count": 39,
   "metadata": {},
   "outputs": [
    {
     "data": {
      "text/plain": [
       "'Nên kiểm tra gene trẻ sơ sinh khi gia đình có người ung thư để lên kế hoạch phòng ngừa, điều trị sớm.'"
      ]
     },
     "execution_count": 39,
     "metadata": {},
     "output_type": "execute_result"
    }
   ],
   "source": [
    "claim"
   ]
  },
  {
   "cell_type": "code",
   "execution_count": 40,
   "metadata": {},
   "outputs": [
    {
     "data": {
      "text/plain": [
       "['Tuỳ trường_hợp , bác_sĩ sẽ chỉ_định xét_nghiệm gene , tầm soát sớm nếu nguy_cơ cao .',\n",
       " 'Như bệnh_nhân trên , bác_sĩ đã tư_vấn về di_truyền cho cả gia_đình , lên kế_hoạch điều_trị cũng như tầm soát sớm tất_cả thành_viên .',\n",
       " 'Gia_đình có người mắc các loại ung_thư này cần được tư_vấn về di_truyền để đánh_giá nguy_cơ .',\n",
       " 'Trường_hợp người_nhà chưa mắc ung_thư , bác_sĩ sẽ phân_tích phả_hệ , khả_năng di_truyền , nguy_cơ bệnh , từ đó đưa ra lời khuyên , kế_hoạch tầm soát , sàng_lọc phù_hợp từng cá_nhân .',\n",
       " 'Với người đã được chẩn_đoán ung_thư , bác_sĩ phân_tích các đặc_điểm bệnh tỷ_lệ cao liên_quan đến di_truyền do mang các đột_biến gene , như ung_thư vú khi còn trẻ tuổi , nhiều khối_u ở cả hai bên vú , ung_thư vú với thể bộ ba gene âm_tính gồm ER ( - ) , PR ( - ) , Heu-2 / neu ( - ) , ung_thư buồng_trứng_thể biểu mô thanh dịch độ cao .',\n",
       " 'Sau đó , bác_sĩ đánh_giá nguy_cơ xuất_hiện cùng lúc các loại ung_thư khác .',\n",
       " 'Đặc_điểm của hội_chứng này là nhiều loại ung_thư xuất_hiện ở nhiều thế_hệ cùng một gia_đình .',\n",
       " 'Theo tiến_sĩ Phương , 5-15% trường_hợp ung_thư tại Việt_Nam liên_quan đến di_truyền , phổ_biến là ung_thư vú , buồng_trứng , đại trực_tràng , nội mạc tử_cung , ung_thư tuyến_giáp_thể tuỷ , ung_thư tuỵ , tiền_liệt_tuyến .',\n",
       " 'Người này năm 39 tuổi phát_hiện ung_thư vú thể ống xâm_nhập , đã phẫu_thuật , hoá_trị ổn_định .',\n",
       " 'Ung_thư di_truyền được báo_cáo lần đầu_tiên vào năm 1969 bởi hai tiến_sĩ Frederick_Li và Joseph_Fraumeni từ Viện Ung_thư Quốc_gia Mỹ .',\n",
       " 'Các nhà_khoa_học phát_hiện nguy_cơ phát_triển ung_thư mới cao hơn qua các thế_hệ và độ tuổi phát_sinh ung_thư cũng ở giai_đoạn sớm hơn thông_thường .',\n",
       " 'Ngày 13/3 , PGS.TS Phạm_Cẩm_Phương , Giám_đốc Trung_tâm Y_học hạt_nhân và Ung_bướu , Bệnh_viện Bạch_Mai , cho biết như trên sau khi tiếp_nhận một bệnh_nhân nữ mắc ung_thư vú và ung_thư buồng_trứng .',\n",
       " 'Những loại ung_thư di_truyền phổ_biến gồm các bệnh sarcoma ( như ung_thư xương , ung_thư mô mềm ) , bạch_cầu cấp , ung_thư não , ung_thư vỏ thượng_thận và ung_thư vú .',\n",
       " 'Mẹ và dì ruột của bệnh_nhân , vào năm 50 tuổi cũng phát_hiện ung_thư buồng_trứng , đã phẫu_thuật và hoá_trị .',\n",
       " 'Cả hai thể ung_thư này đều liên_quan đến di_truyền do mang đột_biến gene .',\n",
       " 'Do_đó , bệnh_nhân được chẩn_đoán mắc hội_chứng ung_thư vú - buồng_trứng di_truyền , kết_quả xét_nghiệm phát_hiện đột_biến gene BRCA , là nguyên_nhân gây ung_thư .',\n",
       " 'Bốn năm sau , chị tái khám và phát_hiện ung_thư buồng_trứng_thể thanh dịch độ cao .',\n",
       " 'Những chỉ dấu cho ung_thư do đột_biến gene di_truyền là : Bệnh ở độ tuổi_trẻ hơn bình_thường ; nhiều loại ung_thư ở một người ( như bệnh_nhân trên mắc ung_thư vú và ung_thư buồng_trứng ) ; ung_thư tại hai bộ_phận cơ_thể ( như cả hai mắt , cả hai thận hoặc cả hai vú ) ; anh_chị_em ruột mắc nhiều hơn một bệnh ung_thư ( như sarcoma ở cả anh_trai và em_gái ) ; ung_thư xảy ra ở nhiều thế_hệ ( như cả ông , cha và con trai ) .',\n",
       " 'Thuý_Quỳnh']"
      ]
     },
     "execution_count": 40,
     "metadata": {},
     "output_type": "execute_result"
    }
   ],
   "source": [
    "[context[i] for i in sorted_ids]"
   ]
  },
  {
   "cell_type": "code",
   "execution_count": 18,
   "metadata": {},
   "outputs": [],
   "source": [
    "claim_tk_length = len(tokenizer(claim).input_ids[:-1])\n",
    "abstract_len = tokenizer.model_max_length - claim_tk_length - 1\n",
    "context_tk_length = [len(tokenizer(s).input_ids[:-1]) for s in context]"
   ]
  },
  {
   "cell_type": "code",
   "execution_count": 19,
   "metadata": {},
   "outputs": [
    {
     "data": {
      "text/plain": [
       "485"
      ]
     },
     "execution_count": 19,
     "metadata": {},
     "output_type": "execute_result"
    }
   ],
   "source": [
    "abstract_len"
   ]
  },
  {
   "cell_type": "code",
   "execution_count": 20,
   "metadata": {},
   "outputs": [],
   "source": [
    "fin_len = 0\n",
    "mask = [0 for _ in range(len(sorted_ids))]\n",
    "for i in sorted_ids:\n",
    "    if fin_len + context_tk_length[i] > abstract_len:\n",
    "        break\n",
    "    \n",
    "    fin_len += context_tk_length[i]\n",
    "    mask[i] = 1"
   ]
  },
  {
   "cell_type": "code",
   "execution_count": 21,
   "metadata": {},
   "outputs": [
    {
     "data": {
      "image/png": "[encoded data removed]",
      "text/plain": [
       "<Figure size 640x480 with 1 Axes>"
      ]
     },
     "metadata": {},
     "output_type": "display_data"
    }
   ],
   "source": [
    "plt.plot(x, mask,color=\"blue\", label=\"selected\")\n",
    "# original\n",
    "plt.plot(x, query_score,color=\"orange\",label=\"original\")\n",
    "# normalized\n",
    "plt.plot(x, final_doc_scores,color=\"green\", label=\"normalized\")\n",
    "plt.legend(loc='best')\n",
    "plt.show()"
   ]
  },
  {
   "cell_type": "code",
   "execution_count": 22,
   "metadata": {},
   "outputs": [
    {
     "data": {
      "text/plain": [
       "['Theo tiến_sĩ Phương , 5-15% trường_hợp ung_thư tại Việt_Nam liên_quan đến di_truyền , phổ_biến là ung_thư vú , buồng_trứng , đại trực_tràng , nội mạc tử_cung , ung_thư tuyến_giáp_thể tuỷ , ung_thư tuỵ , tiền_liệt_tuyến .',\n",
       " 'Gia_đình có người mắc các loại ung_thư này cần được tư_vấn về di_truyền để đánh_giá nguy_cơ .',\n",
       " 'Trường_hợp người_nhà chưa mắc ung_thư , bác_sĩ sẽ phân_tích phả_hệ , khả_năng di_truyền , nguy_cơ bệnh , từ đó đưa ra lời khuyên , kế_hoạch tầm soát , sàng_lọc phù_hợp từng cá_nhân .',\n",
       " 'Tuỳ trường_hợp , bác_sĩ sẽ chỉ_định xét_nghiệm gene , tầm soát sớm nếu nguy_cơ cao .',\n",
       " 'Như bệnh_nhân trên , bác_sĩ đã tư_vấn về di_truyền cho cả gia_đình , lên kế_hoạch điều_trị cũng như tầm soát sớm tất_cả thành_viên .',\n",
       " 'Ung_thư di_truyền được báo_cáo lần đầu_tiên vào năm 1969 bởi hai tiến_sĩ Frederick_Li và Joseph_Fraumeni từ Viện Ung_thư Quốc_gia Mỹ .',\n",
       " 'Đặc_điểm của hội_chứng này là nhiều loại ung_thư xuất_hiện ở nhiều thế_hệ cùng một gia_đình .']"
      ]
     },
     "execution_count": 22,
     "metadata": {},
     "output_type": "execute_result"
    }
   ],
   "source": [
    "[context[i] for i in range(len(context)) if mask[i] == 1]"
   ]
  },
  {
   "cell_type": "code",
   "execution_count": 23,
   "metadata": {},
   "outputs": [
    {
     "data": {
      "text/plain": [
       "'Nên kiểm tra gene trẻ sơ sinh khi gia đình có người ung thư để lên kế hoạch phòng ngừa, điều trị sớm.'"
      ]
     },
     "execution_count": 23,
     "metadata": {},
     "output_type": "execute_result"
    }
   ],
   "source": [
    "claim"
   ]
  }
 ],
 "metadata": {
  "kernelspec": {
   "display_name": "dev",
   "language": "python",
   "name": "python3"
  },
  "language_info": {
   "codemirror_mode": {
    "name": "ipython",
    "version": 3
   },
   "file_extension": ".py",
   "mimetype": "text/x-python",
   "name": "python",
   "nbconvert_exporter": "python",
   "pygments_lexer": "ipython3",
   "version": "3.11.5"
  },
  "orig_nbformat": 4
 },
 "nbformat": 4,
 "nbformat_minor": 2
}
