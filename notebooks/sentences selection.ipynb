{
 "cells": [
  {
   "cell_type": "code",
   "execution_count": 1,
   "metadata": {},
   "outputs": [
    {
     "name": "stderr",
     "output_type": "stream",
     "text": [
      "/home/arch/Projects/college/dsc/dev/lib/python3.11/site-packages/tqdm/auto.py:21: TqdmWarning: IProgress not found. Please update jupyter and ipywidgets. See https://ipywidgets.readthedocs.io/en/stable/user_install.html\n",
      "  from .autonotebook import tqdm as notebook_tqdm\n"
     ]
    }
   ],
   "source": [
    "from transformers import AutoTokenizer, AutoModelForSeq2SeqLM\n",
    "import pandas as pd\n",
    "import json\n",
    "import os\n",
    "import py_vncorenlp\n",
    "from underthesea import sent_tokenize\n",
    "import numpy as np\n",
    "from rank_bm25 import BM25Okapi\n",
    "from numpy.random import normal\n",
    "from scipy.stats import truncnorm, boxcox, gamma\n",
    "import matplotlib.pyplot as plt"
   ]
  },
  {
   "cell_type": "code",
   "execution_count": 2,
   "metadata": {},
   "outputs": [
    {
     "name": "stdout",
     "output_type": "stream",
     "text": [
      "2023-10-19 08:21:32 INFO  WordSegmenter:24 - Loading Word Segmentation model\n"
     ]
    }
   ],
   "source": [
    "rdrsegmenter = py_vncorenlp.VnCoreNLP(annotators=[\"wseg\"], save_dir=os.path.abspath('../vncorenlp'))"
   ]
  },
  {
   "cell_type": "code",
   "execution_count": 3,
   "metadata": {},
   "outputs": [],
   "source": [
    "tokenizer = AutoTokenizer.from_pretrained(\"xlm-roberta-large\")"
   ]
  },
  {
   "cell_type": "code",
   "execution_count": 4,
   "metadata": {},
   "outputs": [],
   "source": [
    "data = pd.read_json(\"../datasets/ise-dsc01-public-test-offcial.json\", orient=\"index\")"
   ]
  },
  {
   "cell_type": "code",
   "execution_count": 5,
   "metadata": {},
   "outputs": [],
   "source": [
    "idx = 32540"
   ]
  },
  {
   "cell_type": "code",
   "execution_count": 6,
   "metadata": {},
   "outputs": [],
   "source": [
    "text = data.loc[idx][\"context\"]\n",
    "claim = data.loc[idx][\"claim\"]\n",
    "context = rdrsegmenter.word_segment(text)"
   ]
  },
  {
   "cell_type": "code",
   "execution_count": 7,
   "metadata": {},
   "outputs": [],
   "source": [
    "def clean_str(s):\n",
    "    return ''.join(e.lower() if e.isalnum() else \" \" for e in s)"
   ]
  },
  {
   "cell_type": "code",
   "execution_count": 8,
   "metadata": {},
   "outputs": [
    {
     "data": {
      "text/plain": [
       "['thiện',\n",
       " 'đã',\n",
       " 'tìm',\n",
       " 'tòi',\n",
       " 'về',\n",
       " 'hệ',\n",
       " 'điều',\n",
       " 'hành',\n",
       " 'linux',\n",
       " 'và',\n",
       " 'biết',\n",
       " 'được',\n",
       " 'hệ',\n",
       " 'thống',\n",
       " 'bên',\n",
       " 'trong',\n",
       " 'nó']"
      ]
     },
     "execution_count": 8,
     "metadata": {},
     "output_type": "execute_result"
    }
   ],
   "source": [
    "query = clean_str(claim).split()\n",
    "query"
   ]
  },
  {
   "cell_type": "code",
   "execution_count": 74,
   "metadata": {},
   "outputs": [
    {
     "data": {
      "text/plain": [
       "['nguyễn ngọc thiện là học sinh lớp 7 tại trường thcs nguyễn tri phương   huế  ',\n",
       " 'ngay từ khi còn nhỏ   thiện đã rất thích đọc sách   nghe nhạc và coding   5 tuổi   thiện tiếp xúc với máy tính và thể hiện niềm yêu thích với lĩnh vực này  ',\n",
       " 'trước khi theo học tại funix   thông quang mạng xã hội   thiện tìm tòi về hệ điều hành linux và biết đến một bản phân phối của người việt phát triển  ',\n",
       " 'cậu chủ động kết nối với tác giả và nhận được sự hướng dẫn   giảng giải về công nghệ  ',\n",
       " 'từ đó   thiện thêm niềm cảm hứng về thế giới lập trình  ',\n",
       " 'càng tìm tòi   học hỏi thiện càng thêm yêu thích lĩnh vực này  ',\n",
       " 'nam sinh tiếp tục tham gia kode   cộng đồng trẻ đam mê công nghệ thông tin và kết nối với nhiều đàn anh  ',\n",
       " 'ngọc thiện được hướng dẫn về kỹ thuật làm web cơ bản cùng nhiều kiến thức khác  ',\n",
       " 'đây cũng là một trong những tiền đề để cậu học trò xứ huế quyết tâm học tập bài bản về lập trình  ',\n",
       " '  em rất biết ơn những người thầy đầu tiên đã dẫn dắt em đến với công nghệ thông tin và mẹ em   người giúp em thực hiện đam mê của mình     thiện nói  ',\n",
       " 'chọn học công nghệ thông tin tại funix   thiện nhận xét nơi đây có nhiều ưu điểm như chủ động về thời gian   học liệu từ các trường hàng đầu thế giới   cấu trúc chương trình học bài bản  ',\n",
       " 'funix cũng là nơi quy tụ nhiều mentor giỏi   chuyên gia trong ngành   dày dạn kinh nghiệm   sẵn sàng hướng dẫn học viên trong suốt quá trình  ',\n",
       " 'ngoài ra   với sự đồng hành của các hannah   nam sinh không cảm thấy cô đơn trên chặng đường học tập của mình  ',\n",
       " 'hiện tại   thiện đã thực hiện được 8 dự án công nghệ thông tin trên các nền tảng github   kode hay hydroos  ',\n",
       " 'hầu hết các ý tưởng đều đến từ nhu cầu của mọi người xung quanh  ',\n",
       " 'mỗi sản phẩm   nhóm dự án đều đạt được những thành quả nhất định  ',\n",
       " '  em đã tích luỹ thêm nhiều hiểu biết về linux   hệ điều hành mà em đã dành rất nhiều thời gian tìm hiểu  ',\n",
       " 'em tin là cứ tích góp từng ngày như vậy rồi đến một ngày sẽ tích luỹ được một kho kiến thức     thiện chia sẻ thêm  ',\n",
       " 'ngọc thiện cho biết khó khăn lớn nhất khi học lập trình là tiếp cận các kiến thức cao hơn bậc thcs   nhất là kiến thức về toán   thuật toán  ',\n",
       " 'để khắc phục   cậu thường nhờ các thầy dạy toán ở trường giảng giải kiến thức cơ bản  ',\n",
       " 'song song   nam sinh tự tìm hiểu trên internet   chủ động giải quyết vấn đề trước khi hỏi mentor và những anh chị có chuyên môn để đưa ra lời giải hiệu quả nhất  ',\n",
       " 'cân đối thời gian học lập trình và chính khoá cũng là một thử thách cho thiện  ',\n",
       " 'cậu thường tự lập kế hoạch cá nhân với lịch trình chi tiết theo tuần   tháng và năm  ',\n",
       " 'cậu định lượng khối thời gian cần để học   làm bài   ôn thi     sau đó phân bổ trong 2   5 tuần và cố gắng xong môn học mình đã đề ra  ',\n",
       " '  kế hoạch có thể điều chỉnh khi có những việc đột xuất   tuy nhiên vẫn đảm bảo không được chậm trễ quá 3 5 ngày so với kế hoạch ban đầu     cậu bé nói thêm  ',\n",
       " 'nam sinh chia sẻ   quá trình tự học giúp bản thân thêm chủ động và có nền tảng kiến thức vững vàng hơn  ',\n",
       " 'cậu cũng sẵn sàng chia sẻ kinh nghiệm học tập với nhiều sinh viên khác tại funix  ',\n",
       " 'theo chị   nhờ sự đồng hành của các hannah   mentor   thiện nỗ lực nhiều hơn   tháo gỡ được các bài toán khó   hiểu sâu vấn đề  ',\n",
       " '  chương trình funix rất bài bản   giúp con phát hiện đúng hướng và phát huy khả năng   chắp cánh ước mơ con trong tương lai một cách vững vàng nhất     chị hiền nói  ',\n",
       " 'nguyễn ngọc thiện cũng nhận định việc học tập tại funix giúp cậu hoàn thiện bản thân và thực hiện những giấc mơ lớn   trong đó có ước mơ theo đuổi ngành trí tuệ nhân tạo trong tương lai  ',\n",
       " 'minh tiến']"
      ]
     },
     "execution_count": 74,
     "metadata": {},
     "output_type": "execute_result"
    }
   ],
   "source": [
    "[clean_str(doc) for doc in context]"
   ]
  },
  {
   "cell_type": "code",
   "execution_count": 10,
   "metadata": {},
   "outputs": [],
   "source": [
    "bm25 = BM25Okapi([clean_str(doc).split() for doc in context])"
   ]
  },
  {
   "cell_type": "code",
   "execution_count": 11,
   "metadata": {},
   "outputs": [
    {
     "data": {
      "text/plain": [
       "array([ 0.22487515,  2.13387674, 16.68689254,  2.89878612,  1.54683488,\n",
       "        5.59622271,  0.44966847,  2.73182269,  2.61834401,  3.40345878,\n",
       "        0.93102751,  2.14624581,  1.83039064,  3.03579105,  0.        ,\n",
       "        1.44862466, 18.3916045 ,  1.31128097,  2.68604535,  0.        ,\n",
       "        1.88081786,  0.72361001,  0.49768864,  3.14428906,  2.69386285,\n",
       "        0.44966847,  0.        ,  3.04150574,  1.7097487 ,  2.42172443,\n",
       "        0.        ])"
      ]
     },
     "execution_count": 11,
     "metadata": {},
     "output_type": "execute_result"
    }
   ],
   "source": [
    "query_score = bm25.get_scores(query=query)\n",
    "query_score"
   ]
  },
  {
   "cell_type": "code",
   "execution_count": 108,
   "metadata": {},
   "outputs": [],
   "source": [
    "def distribute_score(score, arr_len, pos):\n",
    "    myclip_a = 0\n",
    "    myclip_b = 1\n",
    "    my_mean = pos/arr_len\n",
    "    my_std = 0.7 / arr_len\n",
    "    \n",
    "    a, b = (myclip_a - my_mean) / my_std, (myclip_b - my_mean) / my_std\n",
    "\n",
    "    x_range = np.linspace(0,1,arr_len)\n",
    "\n",
    "    y = truncnorm.pdf(x_range, a, b, loc = my_mean, scale = my_std)\n",
    "\n",
    "    return score*y/sum(y)\n",
    "    "
   ]
  },
  {
   "cell_type": "code",
   "execution_count": 109,
   "metadata": {},
   "outputs": [],
   "source": [
    "# final_doc_scores = np.zeros(len(query_score))\n",
    "\n",
    "final_doc_scores = sum([distribute_score(score,len(query_score), idx) for idx, score in enumerate(query_score)])\n",
    "sorted_ids = sorted(range(len(context)), key=lambda k: final_doc_scores[k], reverse=True)"
   ]
  },
  {
   "cell_type": "code",
   "execution_count": 110,
   "metadata": {},
   "outputs": [
    {
     "data": {
      "text/plain": [
       "[<matplotlib.lines.Line2D at 0x7f133cba4ed0>]"
      ]
     },
     "execution_count": 110,
     "metadata": {},
     "output_type": "execute_result"
    },
    {
     "data": {
      "image/png": "[encoded data removed]",
      "text/plain": [
       "<Figure size 640x480 with 1 Axes>"
      ]
     },
     "metadata": {},
     "output_type": "display_data"
    }
   ],
   "source": [
    "x = range(len(context))\n",
    "\n",
    "plt.plot(x, final_doc_scores)"
   ]
  },
  {
   "cell_type": "code",
   "execution_count": 111,
   "metadata": {},
   "outputs": [
    {
     "data": {
      "text/plain": [
       "'thiện đã tìm tòi về hệ điều hành linux và biết được hệ thống bên trong nó'"
      ]
     },
     "execution_count": 111,
     "metadata": {},
     "output_type": "execute_result"
    }
   ],
   "source": [
    "claim"
   ]
  },
  {
   "cell_type": "code",
   "execution_count": 112,
   "metadata": {},
   "outputs": [
    {
     "data": {
      "text/plain": [
       "['Trước khi theo học tại FUNiX , thông quang mạng xã_hội , Thiện tìm_tòi về hệ_điều_hành Linux và biết đến một bản phân_phối của người Việt phát_triển .',\n",
       " 'Mỗi sản_phẩm , nhóm dự_án đều đạt được những thành_quả nhất_định .',\n",
       " '\" Em đã tích_luỹ thêm nhiều hiểu_biết về Linux - hệ_điều_hành mà em đã dành rất nhiều thời_gian tìm_hiểu .',\n",
       " 'Ngay từ khi còn nhỏ , Thiện đã rất thích đọc sách , nghe nhạc và coding . 5 tuổi , Thiện tiếp_xúc với máy_tính và thể_hiện niềm yêu thích với lĩnh_vực này .',\n",
       " 'Cậu chủ_động kết_nối với tác_giả và nhận được sự hướng_dẫn , giảng_giải về công_nghệ .',\n",
       " 'Càng tìm_tòi , học_hỏi Thiện càng thêm yêu thích lĩnh_vực này .',\n",
       " 'Từ đó , Thiện thêm niềm cảm_hứng về thế_giới lập_trình .',\n",
       " 'Đây cũng là một trong những tiền_đề để cậu học_trò xứ Huế quyết_tâm học_tập bài_bản về lập_trình .',\n",
       " 'Em tin là cứ tích_góp từng ngày như_vậy rồi đến một ngày sẽ tích_luỹ được một kho kiến_thức \" , Thiện chia_sẻ thêm .',\n",
       " 'Cậu định_lượng khối thời_gian cần để học , làm bài , ôn thi ... sau đó phân_bổ trong 2 - 5 tuần và cố_gắng xong môn_học mình đã đề ra .',\n",
       " 'Ngọc_Thiện được hướng_dẫn về kỹ_thuật làm web cơ_bản cùng nhiều kiến_thức khác .',\n",
       " '\" Em rất biết_ơn những người thầy đầu_tiên đã dẫn_dắt em đến với công_nghệ_thông_tin và mẹ em - người giúp em thực_hiện đam_mê của mình \" - Thiện nói .',\n",
       " 'Ngoài_ra , với sự đồng_hành của các hannah , nam_sinh không cảm_thấy cô_đơn trên chặng đường học_tập của mình .',\n",
       " 'Cậu thường tự_lập kế_hoạch cá_nhân với lịch_trình chi_tiết theo tuần , tháng và năm .',\n",
       " 'Theo chị , nhờ sự đồng_hành của các hannah , mentor , Thiện nỗ_lực nhiều hơn , tháo_gỡ được các bài_toán khó , hiểu sâu vấn_đề .',\n",
       " 'Cậu cũng sẵn_sàng chia_sẻ kinh_nghiệm học_tập với nhiều sinh_viên khác tại FUNiX .',\n",
       " 'FUNiX cũng là nơi quy_tụ nhiều mentor giỏi - chuyên_gia trong ngành , dày_dạn kinh_nghiệm , sẵn_sàng hướng_dẫn học_viên trong suốt quá_trình .',\n",
       " 'Nam_sinh tiếp_tục tham_gia Kode - cộng_đồng trẻ đam_mê công_nghệ_thông_tin và kết_nối với nhiều đàn_anh .',\n",
       " '\" Chương_trình FUNiX rất bài_bản , giúp con phát_hiện đúng hướng và phát_huy khả_năng , chắp_cánh ước_mơ con trong tương_lai một_cách vững_vàng nhất \" - chị Hiền nói .',\n",
       " 'Hầu_hết các ý_tưởng đều đến từ nhu_cầu của mọi người xung_quanh .',\n",
       " 'Hiện_tại , Thiện đã thực_hiện được 8 dự_án công_nghệ_thông_tin trên các nền_tảng Github , Kode hay HydroOS .',\n",
       " 'Chọn học công_nghệ_thông_tin tại FUNiX , Thiện nhận_xét nơi đây có nhiều ưu_điểm như chủ_động về thời_gian , học liệu từ các trường hàng_đầu thế_giới ; cấu_trúc chương_trình học bài_bản .',\n",
       " 'Ngọc_Thiện cho biết khó_khăn lớn nhất khi học lập_trình là tiếp_cận các kiến_thức cao hơn bậc THCS , nhất_là kiến_thức về Toán , thuật_toán .',\n",
       " '\" Kế_hoạch có_thể điều_chỉnh khi có những việc đột_xuất , tuy_nhiên vẫn đảm_bảo không được chậm_trễ quá 3-5 ngày so với kế_hoạch ban_đầu \" , cậu bé nói thêm .',\n",
       " 'Song_song , nam_sinh tự tìm_hiểu trên Internet , chủ_động giải_quyết vấn_đề trước khi hỏi mentor và những anh_chị có chuyên_môn để đưa ra lời_giải hiệu_quả nhất .',\n",
       " 'Để khắc_phục , cậu thường nhờ các thầy dạy toán ở trường giảng_giải kiến_thức cơ_bản .',\n",
       " 'Cân_đối thời_gian học lập_trình và chính_khoá cũng là một thử_thách cho Thiện .',\n",
       " 'Nguyễn_Ngọc_Thiện là học_sinh lớp 7 tại trường THCS Nguyễn_Tri_Phương - Huế .',\n",
       " 'Nam_sinh chia_sẻ , quá_trình tự học giúp bản_thân thêm chủ_động và có nền_tảng kiến_thức vững_vàng hơn .',\n",
       " 'Nguyễn_Ngọc_Thiện cũng nhận_định việc học_tập tại FUNiX giúp cậu hoàn_thiện bản_thân và thực_hiện những giấc mơ lớn , trong đó có ước_mơ theo_đuổi ngành trí_tuệ_nhân_tạo trong tương_lai .',\n",
       " 'Minh_Tiến']"
      ]
     },
     "execution_count": 112,
     "metadata": {},
     "output_type": "execute_result"
    }
   ],
   "source": [
    "[context[i] for i in sorted_ids]"
   ]
  },
  {
   "cell_type": "code",
   "execution_count": 113,
   "metadata": {},
   "outputs": [],
   "source": [
    "claim_tk_length = len(tokenizer(claim).input_ids[:-1])\n",
    "abstract_len = tokenizer.model_max_length - claim_tk_length - 1\n",
    "context_tk_length = [len(tokenizer(s).input_ids[:-1]) for s in context]"
   ]
  },
  {
   "cell_type": "code",
   "execution_count": 114,
   "metadata": {},
   "outputs": [
    {
     "data": {
      "text/plain": [
       "491"
      ]
     },
     "execution_count": 114,
     "metadata": {},
     "output_type": "execute_result"
    }
   ],
   "source": [
    "abstract_len"
   ]
  },
  {
   "cell_type": "code",
   "execution_count": 115,
   "metadata": {},
   "outputs": [],
   "source": [
    "fin_len = 0\n",
    "mask = [0 for _ in range(len(sorted_ids))]\n",
    "for i in sorted_ids:\n",
    "    if fin_len + context_tk_length[i] > abstract_len:\n",
    "        break\n",
    "    \n",
    "    fin_len += context_tk_length[i]\n",
    "    mask[i] = 1"
   ]
  },
  {
   "cell_type": "code",
   "execution_count": 116,
   "metadata": {},
   "outputs": [
    {
     "data": {
      "image/png": "[encoded data removed]",
      "text/plain": [
       "<Figure size 640x480 with 1 Axes>"
      ]
     },
     "metadata": {},
     "output_type": "display_data"
    }
   ],
   "source": [
    "plt.plot(x, mask,color=\"blue\", label=\"selected\")\n",
    "# original\n",
    "plt.plot(x, query_score,color=\"orange\",label=\"original\")\n",
    "# normalized\n",
    "plt.plot(x, final_doc_scores,color=\"green\", label=\"normalized\")\n",
    "plt.legend(loc='best')\n",
    "plt.show()"
   ]
  },
  {
   "cell_type": "code",
   "execution_count": 117,
   "metadata": {},
   "outputs": [
    {
     "data": {
      "text/plain": [
       "['Ngay từ khi còn nhỏ , Thiện đã rất thích đọc sách , nghe nhạc và coding . 5 tuổi , Thiện tiếp_xúc với máy_tính và thể_hiện niềm yêu thích với lĩnh_vực này .',\n",
       " 'Trước khi theo học tại FUNiX , thông quang mạng xã_hội , Thiện tìm_tòi về hệ_điều_hành Linux và biết đến một bản phân_phối của người Việt phát_triển .',\n",
       " 'Cậu chủ_động kết_nối với tác_giả và nhận được sự hướng_dẫn , giảng_giải về công_nghệ .',\n",
       " 'Từ đó , Thiện thêm niềm cảm_hứng về thế_giới lập_trình .',\n",
       " 'Càng tìm_tòi , học_hỏi Thiện càng thêm yêu thích lĩnh_vực này .',\n",
       " 'Ngọc_Thiện được hướng_dẫn về kỹ_thuật làm web cơ_bản cùng nhiều kiến_thức khác .',\n",
       " 'Đây cũng là một trong những tiền_đề để cậu học_trò xứ Huế quyết_tâm học_tập bài_bản về lập_trình .',\n",
       " 'Mỗi sản_phẩm , nhóm dự_án đều đạt được những thành_quả nhất_định .',\n",
       " '\" Em đã tích_luỹ thêm nhiều hiểu_biết về Linux - hệ_điều_hành mà em đã dành rất nhiều thời_gian tìm_hiểu .',\n",
       " 'Em tin là cứ tích_góp từng ngày như_vậy rồi đến một ngày sẽ tích_luỹ được một kho kiến_thức \" , Thiện chia_sẻ thêm .',\n",
       " 'Cậu định_lượng khối thời_gian cần để học , làm bài , ôn thi ... sau đó phân_bổ trong 2 - 5 tuần và cố_gắng xong môn_học mình đã đề ra .']"
      ]
     },
     "execution_count": 117,
     "metadata": {},
     "output_type": "execute_result"
    }
   ],
   "source": [
    "[context[i] for i in range(len(context)) if mask[i] == 1]"
   ]
  },
  {
   "cell_type": "code",
   "execution_count": 118,
   "metadata": {},
   "outputs": [
    {
     "data": {
      "text/plain": [
       "'thiện đã tìm tòi về hệ điều hành linux và biết được hệ thống bên trong nó'"
      ]
     },
     "execution_count": 118,
     "metadata": {},
     "output_type": "execute_result"
    }
   ],
   "source": [
    "claim"
   ]
  }
 ],
 "metadata": {
  "kernelspec": {
   "display_name": "dev",
   "language": "python",
   "name": "python3"
  },
  "language_info": {
   "codemirror_mode": {
    "name": "ipython",
    "version": 3
   },
   "file_extension": ".py",
   "mimetype": "text/x-python",
   "name": "python",
   "nbconvert_exporter": "python",
   "pygments_lexer": "ipython3",
   "version": "3.11.5"
  },
  "orig_nbformat": 4
 },
 "nbformat": 4,
 "nbformat_minor": 2
}
