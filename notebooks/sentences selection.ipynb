{
 "cells": [
  {
   "cell_type": "code",
   "execution_count": 1,
   "metadata": {},
   "outputs": [
    {
     "name": "stderr",
     "output_type": "stream",
     "text": [
      "/home/arch/Projects/college/dsc/dev/lib/python3.11/site-packages/tqdm/auto.py:21: TqdmWarning: IProgress not found. Please update jupyter and ipywidgets. See https://ipywidgets.readthedocs.io/en/stable/user_install.html\n",
      "  from .autonotebook import tqdm as notebook_tqdm\n"
     ]
    }
   ],
   "source": [
    "from transformers import AutoTokenizer, AutoModelForSeq2SeqLM\n",
    "import pandas as pd\n",
    "import json\n",
    "import os\n",
    "import py_vncorenlp\n",
    "from underthesea import sent_tokenize\n",
    "import numpy as np\n",
    "from rank_bm25 import BM25Okapi\n",
    "from numpy.random import normal\n",
    "from scipy.stats import truncnorm, boxcox, gamma\n",
    "import matplotlib.pyplot as plt\n",
    "import math\n",
    "import os, sys\n",
    "sys.path.append(\"../src\")\n",
    "\n",
    "from sentences_selection import select_sentences\n",
    "import copy"
   ]
  },
  {
   "cell_type": "code",
   "execution_count": 2,
   "metadata": {},
   "outputs": [
    {
     "name": "stdout",
     "output_type": "stream",
     "text": [
      "2023-10-27 16:40:21 INFO  WordSegmenter:24 - Loading Word Segmentation model\n"
     ]
    }
   ],
   "source": [
    "rdrsegmenter = py_vncorenlp.VnCoreNLP(annotators=[\"wseg\"], save_dir=os.path.abspath('../vncorenlp'))"
   ]
  },
  {
   "cell_type": "code",
   "execution_count": 3,
   "metadata": {},
   "outputs": [],
   "source": [
    "tokenizer = AutoTokenizer.from_pretrained(\"vinai/phobert-base-v2\")"
   ]
  },
  {
   "cell_type": "code",
   "execution_count": 4,
   "metadata": {},
   "outputs": [],
   "source": [
    "import re\n",
    "def no_accent_vietnamese(s):\n",
    "    s = re.sub(r'[àáạảãâầấậẩẫăằắặẳẵ]', 'a', s)\n",
    "    s = re.sub(r'[ÀÁẠẢÃĂẰẮẶẲẴÂẦẤẬẨẪ]', 'A', s)\n",
    "    s = re.sub(r'[èéẹẻẽêềếệểễ]', 'e', s)\n",
    "    s = re.sub(r'[ÈÉẸẺẼÊỀẾỆỂỄ]', 'E', s)\n",
    "    s = re.sub(r'[òóọỏõôồốộổỗơờớợởỡ]', 'o', s)\n",
    "    s = re.sub(r'[ÒÓỌỎÕÔỒỐỘỔỖƠỜỚỢỞỠ]', 'O', s)\n",
    "    s = re.sub(r'[ìíịỉĩ]', 'i', s)\n",
    "    s = re.sub(r'[ÌÍỊỈĨ]', 'I', s)\n",
    "    s = re.sub(r'[ùúụủũưừứựửữ]', 'u', s)\n",
    "    s = re.sub(r'[ƯỪỨỰỬỮÙÚỤỦŨ]', 'U', s)\n",
    "    s = re.sub(r'[ỳýỵỷỹ]', 'y', s)\n",
    "    s = re.sub(r'[ỲÝỴỶỸ]', 'Y', s)\n",
    "    s = re.sub(r'[Đ]', 'D', s)\n",
    "    s = re.sub(r'[đ]', 'd', s)\n",
    "    return s\n",
    "\n",
    "def sentences_splitting(text, rdrsegmenter=rdrsegmenter):\n",
    "\n",
    "    text_lower = no_accent_vietnamese(text.lower())\n",
    "    \n",
    "    original_sents=[]\n",
    "    processed_sents = []\n",
    "    \n",
    "    text_pos = 0\n",
    "    for _, sent in rdrsegmenter.annotate_text(text).items():\n",
    "        words = [w[\"wordForm\"] for w in sent]\n",
    "        words = [w.replace(\"_\", \" \") if w != \"_\" else \"_\" for w in words]\n",
    "\n",
    "        processed_sents.append(\" \".join(words))\n",
    "\n",
    "        words = [no_accent_vietnamese(w.lower()) for w in words]\n",
    "        words = sum([w.split() for w in words],[])\n",
    "\n",
    "\n",
    "        # find position of words in text_lower\n",
    "        pos_start = []\n",
    "        pos_end = []\n",
    "\n",
    "        for w in words:\n",
    "            idx = text_lower.find(w,text_pos)\n",
    "\n",
    "            pos_start.append(idx)\n",
    "            pos_end.append(idx + len(w))\n",
    "\n",
    "            text_pos = idx + len(w)\n",
    "        \n",
    "        # for testing\n",
    "        # test = [text_lower[pos_start[i]: pos_end[i]] for i in range(len(pos_start))]\n",
    "        # assert test == words\n",
    "\n",
    "        original_sents.append(text[pos_start[0]: pos_end[-1]])\n",
    "    return original_sents, processed_sents\n"
   ]
  },
  {
   "cell_type": "code",
   "execution_count": 5,
   "metadata": {},
   "outputs": [],
   "source": [
    "data = pd.read_json(\"../datasets/ise-dsc01-public-test-offcial.json\", orient=\"index\")"
   ]
  },
  {
   "cell_type": "code",
   "execution_count": 6,
   "metadata": {},
   "outputs": [],
   "source": [
    "idx = 29706"
   ]
  },
  {
   "cell_type": "code",
   "execution_count": 7,
   "metadata": {},
   "outputs": [
    {
     "data": {
      "text/plain": [
       "index                                                  46314\n",
       "context    Sau khi bỏ thịt vì lý do đạo đức, sức khỏe hoặ...\n",
       "claim      Mèo không phải là động vật ăn thịt bắt buộc nê...\n",
       "Name: 0, dtype: object"
      ]
     },
     "execution_count": 7,
     "metadata": {},
     "output_type": "execute_result"
    }
   ],
   "source": [
    "data.sample(n=1).reset_index().loc[0]"
   ]
  },
  {
   "cell_type": "code",
   "execution_count": 834,
   "metadata": {},
   "outputs": [],
   "source": [
    "idx = 29706\n",
    "sample = data.sample(n=1).reset_index().loc[0]\n",
    "text = sample[\"context\"]\n",
    "claim = sample[\"claim\"]\n",
    "context = rdrsegmenter.word_segment(text)"
   ]
  },
  {
   "cell_type": "code",
   "execution_count": 835,
   "metadata": {},
   "outputs": [],
   "source": [
    "def clean_str(s):\n",
    "    return ''.join(e.lower() if e.isalnum() else \" \" for e in s)"
   ]
  },
  {
   "cell_type": "code",
   "execution_count": 836,
   "metadata": {},
   "outputs": [
    {
     "data": {
      "text/plain": [
       "['dong',\n",
       " 'co',\n",
       " 'cua',\n",
       " 'ten',\n",
       " 'lua',\n",
       " 'javelin',\n",
       " 'hien',\n",
       " 'duoc',\n",
       " 'san',\n",
       " 'xuat',\n",
       " 'doc',\n",
       " 'quyen',\n",
       " 'boi',\n",
       " 'cong',\n",
       " 'ty',\n",
       " 'aerojet',\n",
       " 'rocketdyne',\n",
       " 'con',\n",
       " 'williams',\n",
       " 'international',\n",
       " 'la',\n",
       " 'cong',\n",
       " 'ty',\n",
       " 'duy',\n",
       " 'nhat',\n",
       " 'che',\n",
       " 'tao',\n",
       " 'dong',\n",
       " 'co',\n",
       " 'phan',\n",
       " 'luc',\n",
       " 'canh',\n",
       " 'quat',\n",
       " 'cho',\n",
       " 'da',\n",
       " 'so',\n",
       " 'cac',\n",
       " 'loai',\n",
       " 'ten',\n",
       " 'lua',\n",
       " 'hanh',\n",
       " 'trinh']"
      ]
     },
     "execution_count": 836,
     "metadata": {},
     "output_type": "execute_result"
    }
   ],
   "source": [
    "query = no_accent_vietnamese(clean_str(claim)).split()\n",
    "query"
   ]
  },
  {
   "cell_type": "code",
   "execution_count": 837,
   "metadata": {},
   "outputs": [
    {
     "data": {
      "text/plain": [
       "['  chien tranh luon dang so nhung se cang dang so hon khi phe cua ban chua chuan bi day du     seth g  jones   pho chu tich kiem giam doc chuong trinh an ninh quoc te tai trung tam chien luoc va nghien cuu quoc te   csis   o my   viet  ',\n",
       " 'sau hon mot nam xung dot ukraine   vien tro quan su cua washington cho kiev dat 32 ty usd  ',\n",
       " 'nhieu he thong vu khi va dan duoc gui toi ukraine   khien kho du tru cua my ngay cang can kiet  ',\n",
       " 'my da cung cap cho ukraine hon 8 500 ten lua chong tang javelin   1 600 ten lua stinger   38 he thong himars trong giai doan thang 2 2022   3 2023  su ho tro nay rat quan trong voi ukraine trong cuoc chien voi nga   song chi phi ma my bo ra la rat lon  ',\n",
       " 'toc do quan doi ukraine su dung dan duoc va vu khi da gay cang thang cho nganh cong nghiep quoc phong my  ',\n",
       " '  cac goi vien tro nay la quyet dinh dung dan khi chung giup ngan buoc tien cua nga  ',\n",
       " 'nhung day cung la nhung he thong ma my co the su dung de huan luyen binh si hoac du tru cho xung dot tuong lai     ong jones noi  ',\n",
       " 'ngay ca khi tang toc do san xuat   my co the mat vai nam de bu dap so ten lua javelin   stinger va cac loai vu khi khac da chuyen sang ukraine  ',\n",
       " 'ngoai ra   toc do xuat khau mot so loai vu khi nhu javelin   stinger   himars   he thong rocket phong loat dan duong   gmlrs   hay ten lua chong ham harpoon dong nghia my co nguy co khong con du kho dan duoc de dap ung neu xay ra xung dot trong tuong lai  ',\n",
       " '  xung dot o ukraine da chung minh rang cuoc chien tieu hao thuc chat se la xung dot cua cac nen cong nghiep     jones nhan xet  ',\n",
       " 'no luc trien khai   trang bi va tiep te cho cac luc luong la nhiem vu doi hoi phai co mot co so cong nghiep quy mo lon  ',\n",
       " 'trong mot so ngay   quan doi nga da phong 50 000 qua dan phao vao cac vi tri cua ukraine  ',\n",
       " 'luong dan phao 155 mm ukraine ban trong 5 ngay bang so luong dan my san xuat trong mot thang  ',\n",
       " 'trong khi do   tiem kich   xe tang chien dau chu luc   phao va may bay khong nguoi lai lien tuc bi pha huy hoac hong hoc   doi hoi thay the hoac sua chua  ',\n",
       " 'gioi quan sat cho rang trong boi canh canh tranh quoc te hien nay   my can mot chien luoc quoc gia de cung co co so cong nghiep quoc phong va tang nang luc quan su  ',\n",
       " '  khong co giai phap nhanh chong nao de tang cuong nang luc san xuat ten lua nham dap ung yeu cau   nhung do la ly do my phai bat dau ngay bay gio     jones noi them  ',\n",
       " 'chuyen gia cua csis cho rang buoc dau tien la my phai khuyen khich cac cong ty quoc phong tang san xuat  ',\n",
       " 'tuy nhien   tro ngai la cac cong ty nay thuong khong san sang tang manh san luong va chap nhan rui ro tai chinh ma khong co hop dong dai han voi chinh phu  ',\n",
       " 'du bo quoc phong my thuong ky hop dong nhieu nam cho tau va may bay   ho khong ky hop dong dai han voi nhieu loai dan duoc  ',\n",
       " 'ngoai ra   my thuong xuyen cat giam ngan sach dan duoc vao cuoi moi nam tai khoa de nhuong cho cho cac uu tien khac hoac de khac phuc cac van de phat sinh trong qua trinh mua sam cac loai vu khi lon  ',\n",
       " 'nhung han che ve luc luong lao dong va chuoi cung ung cung la tro ngai  ',\n",
       " 'trong mot so truong hop   mot so thiet bi quan trong chi do mot cong ty san xuat  ',\n",
       " 'dong co cua ten lua javelin hien duoc san xuat doc quyen boi cong ty aerojet rocketdyne   trong khi williams international la cong ty duy nhat che tao dong co phan luc canh quat cho hau het ten lua hanh trinh  ',\n",
       " 'my con doi mat voi tinh trang thieu hut mot so kim loai dat hiem   ma trung quoc gan nhu la nha cung cap doc quyen   von rat quan trong trong san xuat cac loai ten lua va dan duoc khac  ',\n",
       " 'ngoai ra   thoi gian san xuat la mot tro ngai dang ke  ',\n",
       " 'nhieu loai ten lua co the mat khoang hai nam de san xuat  ',\n",
       " '  lau nam goc can phan tich nhu cau dua tren cac kich ban chien tranh   sau do ho co the cung cap cac dinh huong va nguon luc de cac nha san xuat quoc phong lap day khoang trong     jones khuyen nghi  ',\n",
       " 'quan doi my co ke hoach tang nang luc san xuat hang thang dan phao 155 mm tu khoang 14 000 qua len 30 000 trong nam 2023 va huong toi muc tieu 90 000 sau do  ',\n",
       " 'lau nam goc da chi 80 trieu usd de tang cuong san xuat javelin voi mong muon gap doi san luong len muc 4 000 ten lua moi nam  ']"
      ]
     },
     "execution_count": 837,
     "metadata": {},
     "output_type": "execute_result"
    }
   ],
   "source": [
    "[no_accent_vietnamese(clean_str(doc)) for doc in context]"
   ]
  },
  {
   "cell_type": "code",
   "execution_count": 838,
   "metadata": {},
   "outputs": [],
   "source": [
    "bm25 = BM25Okapi([no_accent_vietnamese(clean_str(doc)).split() for doc in context])"
   ]
  },
  {
   "cell_type": "code",
   "execution_count": 839,
   "metadata": {},
   "outputs": [
    {
     "data": {
      "text/plain": [
       "array([ 4.79786634,  5.43948624,  2.34680037,  6.91496834,  5.43844727,\n",
       "        2.30041565,  1.93930935, 10.23214332, 11.61487357,  5.35556291,\n",
       "        7.08481761,  4.24374584,  1.3792567 ,  0.88995494, 12.74857379,\n",
       "        5.81924453,  8.81934346,  9.48242845,  7.46982159,  5.34801941,\n",
       "        8.42970063,  7.66834878, 59.65651648, 13.48232448,  1.01184546,\n",
       "        8.53281774,  4.91348361,  2.06826157,  7.09759893])"
      ]
     },
     "execution_count": 839,
     "metadata": {},
     "output_type": "execute_result"
    }
   ],
   "source": [
    "query_score = bm25.get_scores(query=query)\n",
    "query_score"
   ]
  },
  {
   "cell_type": "code",
   "execution_count": 840,
   "metadata": {},
   "outputs": [],
   "source": [
    "def distribute_score(score, arr_len, pos):\n",
    "    if arr_len == 1:\n",
    "        return [score]\n",
    "    myclip_a = 0\n",
    "    myclip_b = 1\n",
    "    my_mean = pos/(arr_len - 1)\n",
    "    my_std = 0.65 / arr_len\n",
    "    \n",
    "    a, b = (myclip_a - my_mean) / my_std, (myclip_b - my_mean) / my_std\n",
    "\n",
    "    x_range = np.linspace(0,1,arr_len)\n",
    "\n",
    "    y = truncnorm.pdf(x_range, a, b, loc = my_mean, scale = my_std)\n",
    "\n",
    "    return score*y/sum(y)\n",
    "    "
   ]
  },
  {
   "cell_type": "code",
   "execution_count": 841,
   "metadata": {},
   "outputs": [],
   "source": [
    "# final_doc_scores = np.zeros(len(query_score))\n",
    "\n",
    "final_doc_scores = sum([distribute_score(score,len(query_score), idx) for idx, score in enumerate(query_score)])\n",
    "sorted_ids = sorted(range(len(context)), key=lambda k: final_doc_scores[k], reverse=True)"
   ]
  },
  {
   "cell_type": "code",
   "execution_count": 842,
   "metadata": {},
   "outputs": [
    {
     "data": {
      "text/plain": [
       "[<matplotlib.lines.Line2D at 0x7fb75ffefc10>]"
      ]
     },
     "execution_count": 842,
     "metadata": {},
     "output_type": "execute_result"
    },
    {
     "data": {
      "image/png": "[encoded data removed]",
      "text/plain": [
       "<Figure size 640x480 with 1 Axes>"
      ]
     },
     "metadata": {},
     "output_type": "display_data"
    }
   ],
   "source": [
    "x = range(len(context))\n",
    "\n",
    "plt.plot(x, final_doc_scores)"
   ]
  },
  {
   "cell_type": "code",
   "execution_count": 843,
   "metadata": {},
   "outputs": [
    {
     "data": {
      "text/plain": [
       "'Động cơ của tên lửa Javelin hiện được sản xuất độc quyền bởi công ty Aerojet Rocketdyne còn Williams International là công ty duy nhất chế tạo động cơ phản lực cánh quạt cho đa số các loại tên lửa hành trình'"
      ]
     },
     "execution_count": 843,
     "metadata": {},
     "output_type": "execute_result"
    }
   ],
   "source": [
    "claim"
   ]
  },
  {
   "cell_type": "code",
   "execution_count": 844,
   "metadata": {},
   "outputs": [
    {
     "data": {
      "text/plain": [
       "['Động_cơ của tên_lửa Javelin hiện được sản_xuất độc_quyền bởi công_ty Aerojet_Rocketdyne , trong khi Williams_International là công_ty duy_nhất chế_tạo động_cơ_phản_lực cánh_quạt cho hầu_hết tên_lửa hành_trình .',\n",
       " 'Mỹ còn đối_mặt với tình_trạng thiếu_hụt một_số kim_loại đất_hiếm , mà Trung_Quốc gần như là nhà_cung_cấp độc_quyền , vốn rất quan_trọng trong sản_xuất các loại tên_lửa và đạn_dược khác .',\n",
       " 'Trong một_số trường_hợp , một_số thiết_bị quan_trọng chỉ do một công_ty sản_xuất .',\n",
       " 'Ngoài_ra , tốc_độ xuất_khẩu một_số loại vũ_khí như Javelin , Stinger , HIMARS , hệ_thống Rocket_Phóng loạt Dẫn đường ( GMLRS ) hay tên_lửa chống hạm Harpoon đồng_nghĩa Mỹ có nguy_cơ không còn đủ kho đạn_dược để đáp_ứng nếu xảy ra xung_đột trong tương_lai .',\n",
       " 'Giới quan_sát cho rằng trong bối_cảnh cạnh_tranh quốc_tế hiện_nay , Mỹ cần một chiến_lược quốc_gia để củng_cố cơ_sở công_nghiệp quốc_phòng và tăng năng_lực quân_sự .',\n",
       " 'Tuy_nhiên , trở_ngại là các công_ty này thường không sẵn_sàng tăng mạnh sản_lượng và chấp_nhận rủi_ro tài_chính mà không có hợp_đồng dài_hạn với chính_phủ .',\n",
       " 'Ngay cả khi tăng tốc_độ sản_xuất , Mỹ có_thể mất vài năm để bù_đắp số tên_lửa Javelin , Stinger và các loại vũ_khí khác đã chuyển sang Ukraine .',\n",
       " 'Chuyên_gia của CSIS cho rằng bước đầu_tiên là Mỹ phải khuyến_khích các công_ty quốc_phòng tăng_sản xuất .',\n",
       " 'Những hạn_chế về lực_lượng lao_động và chuỗi cung_ứng cũng là trở_ngại .',\n",
       " '\" Không có giải_pháp nhanh_chóng nào để tăng_cường năng_lực sản_xuất tên_lửa nhằm đáp_ứng yêu_cầu , nhưng đó là lý_do Mỹ phải bắt_đầu ngay bây_giờ \" , Jones nói thêm .',\n",
       " 'Dù Bộ Quốc_phòng Mỹ thường ký hợp_đồng nhiều năm cho tàu và máy_bay , họ không ký hợp_đồng dài_hạn với nhiều loại đạn_dược .',\n",
       " '\" Xung_đột ở Ukraine đã chứng_minh rằng cuộc_chiến tiêu_hao thực_chất sẽ là xung_đột của các nền công_nghiệp \" , Jones nhận_xét .',\n",
       " 'Nhiều loại tên_lửa có_thể mất khoảng hai năm để sản_xuất .',\n",
       " 'Ngoài_ra , Mỹ thường_xuyên cắt_giảm ngân_sách đạn_dược vào cuối mỗi năm tài_khoá để nhường chỗ cho các ưu_tiên khác hoặc để khắc_phục các vấn_đề phát_sinh trong quá_trình mua_sắm các loại vũ_khí lớn .',\n",
       " 'Nỗ_lực triển_khai , trang_bị và tiếp_tế cho các lực_lượng là nhiệm_vụ đòi_hỏi phải có một cơ_sở công_nghiệp quy_mô lớn .',\n",
       " 'Lầu_Năm_Góc đã chi 80 triệu USD để tăng_cường sản_xuất Javelin với mong_muốn gấp đôi sản_lượng lên mức 4.000 tên_lửa mỗi năm .',\n",
       " 'Mỹ đã cung_cấp cho Ukraine hơn 8.500 tên_lửa chống tăng Javelin , 1.600 tên_lửa Stinger , 38 hệ_thống HIMARS trong giai_đoạn tháng 2/2022 - 3/2023. Sự hỗ_trợ này rất quan_trọng với Ukraine trong cuộc_chiến với Nga , song chi_phí mà Mỹ bỏ ra là rất lớn .',\n",
       " 'Tốc_độ quân_đội Ukraine sử_dụng đạn_dược và vũ_khí đã gây căng_thẳng cho ngành công_nghiệp quốc_phòng Mỹ .',\n",
       " '\" Lầu_Năm_Góc cần phân_tích nhu_cầu dựa trên các kịch_bản chiến_tranh , sau đó họ có_thể cung_cấp các định_hướng và nguồn_lực để các nhà_sản_xuất quốc_phòng lấp đầy khoảng trống \" , Jones khuyến_nghị .',\n",
       " 'Sau hơn một năm xung_đột Ukraine , viện_trợ quân_sự của Washington cho Kiev đạt 32 tỷ USD .',\n",
       " 'Ngoài_ra , thời_gian sản_xuất là một trở_ngại đáng_kể .',\n",
       " '\" Chiến_tranh luôn đáng sợ nhưng sẽ càng đáng sợ hơn khi phe của bạn chưa chuẩn_bị đầy_đủ \" , Seth G. Jones , phó chủ_tịch kiêm giám_đốc Chương_trình An_ninh Quốc_tế tại Trung_tâm Chiến_lược và Nghiên_cứu Quốc_tế ( CSIS ) ở Mỹ , viết .',\n",
       " 'Trong một_số ngày , quân_đội Nga đã phóng 50.000 quả đạn pháo vào các vị_trí của Ukraine .',\n",
       " 'Quân_đội Mỹ có kế_hoạch tăng năng_lực sản_xuất hàng tháng đạn pháo 155 mm từ khoảng 14.000 quả lên 30.000 trong năm 2023 và hướng tới mục_tiêu 90.000 sau đó .',\n",
       " 'Nhiều hệ_thống vũ_khí và đạn được gửi tới Ukraine , khiến kho dự_trữ của Mỹ ngày_càng cạn_kiệt .',\n",
       " 'Nhưng đây cũng là những hệ_thống mà Mỹ có_thể sử_dụng để huấn_luyện binh_sĩ hoặc dự_trữ cho xung_đột tương_lai \" , ông Jones nói .',\n",
       " 'Trong khi đó , tiêm_kích , xe_tăng chiến_đấu chủ_lực , pháo và máy_bay không người lái liên_tục bị phá_huỷ hoặc hỏng_hóc , đòi_hỏi thay_thế hoặc sửa_chữa .',\n",
       " '\" Các gói viện_trợ này là quyết_định đúng_đắn khi chúng giúp ngăn bước_tiến của Nga .',\n",
       " 'Lượng đạn pháo 155 mm Ukraine bắn trong 5 ngày bằng số_lượng đạn Mỹ sản_xuất trong một tháng .']"
      ]
     },
     "execution_count": 844,
     "metadata": {},
     "output_type": "execute_result"
    }
   ],
   "source": [
    "[context[i] for i in sorted_ids]"
   ]
  },
  {
   "cell_type": "code",
   "execution_count": 845,
   "metadata": {},
   "outputs": [],
   "source": [
    "model_max_length = 256\n",
    "claim_tk_length = len(tokenizer(claim).input_ids[:-1])\n",
    "abstract_len = model_max_length - claim_tk_length - 1\n",
    "context_tk_length = [len(tokenizer(s).input_ids[:-1]) for s in context]"
   ]
  },
  {
   "cell_type": "code",
   "execution_count": 846,
   "metadata": {},
   "outputs": [],
   "source": [
    "fin_len = 0\n",
    "mask = [0 for _ in range(len(sorted_ids))]\n",
    "for i in sorted_ids:\n",
    "    if fin_len + context_tk_length[i] > abstract_len:\n",
    "        break\n",
    "    \n",
    "    fin_len += context_tk_length[i]\n",
    "    mask[i] = 1"
   ]
  },
  {
   "cell_type": "code",
   "execution_count": 847,
   "metadata": {},
   "outputs": [
    {
     "data": {
      "image/png": "[encoded data removed]",
      "text/plain": [
       "<Figure size 640x480 with 1 Axes>"
      ]
     },
     "metadata": {},
     "output_type": "display_data"
    }
   ],
   "source": [
    "plt.plot(x, mask,color=\"blue\", label=\"selected\")\n",
    "# original\n",
    "plt.plot(x, query_score,color=\"orange\",label=\"original\")\n",
    "# normalized\n",
    "plt.plot(x, final_doc_scores,color=\"green\", label=\"normalized\")\n",
    "plt.legend(loc='best')\n",
    "plt.show()"
   ]
  },
  {
   "cell_type": "code",
   "execution_count": 848,
   "metadata": {},
   "outputs": [
    {
     "data": {
      "text/plain": [
       "['Ngoài_ra , tốc_độ xuất_khẩu một_số loại vũ_khí như Javelin , Stinger , HIMARS , hệ_thống Rocket_Phóng loạt Dẫn đường ( GMLRS ) hay tên_lửa chống hạm Harpoon đồng_nghĩa Mỹ có nguy_cơ không còn đủ kho đạn_dược để đáp_ứng nếu xảy ra xung_đột trong tương_lai .',\n",
       " 'Giới quan_sát cho rằng trong bối_cảnh cạnh_tranh quốc_tế hiện_nay , Mỹ cần một chiến_lược quốc_gia để củng_cố cơ_sở công_nghiệp quốc_phòng và tăng năng_lực quân_sự .',\n",
       " 'Tuy_nhiên , trở_ngại là các công_ty này thường không sẵn_sàng tăng mạnh sản_lượng và chấp_nhận rủi_ro tài_chính mà không có hợp_đồng dài_hạn với chính_phủ .',\n",
       " 'Trong một_số trường_hợp , một_số thiết_bị quan_trọng chỉ do một công_ty sản_xuất .',\n",
       " 'Động_cơ của tên_lửa Javelin hiện được sản_xuất độc_quyền bởi công_ty Aerojet_Rocketdyne , trong khi Williams_International là công_ty duy_nhất chế_tạo động_cơ_phản_lực cánh_quạt cho hầu_hết tên_lửa hành_trình .',\n",
       " 'Mỹ còn đối_mặt với tình_trạng thiếu_hụt một_số kim_loại đất_hiếm , mà Trung_Quốc gần như là nhà_cung_cấp độc_quyền , vốn rất quan_trọng trong sản_xuất các loại tên_lửa và đạn_dược khác .']"
      ]
     },
     "execution_count": 848,
     "metadata": {},
     "output_type": "execute_result"
    }
   ],
   "source": [
    "[context[i] for i in range(len(context)) if mask[i] == 1]"
   ]
  },
  {
   "cell_type": "code",
   "execution_count": 849,
   "metadata": {},
   "outputs": [
    {
     "data": {
      "text/plain": [
       "'Động cơ của tên lửa Javelin hiện được sản xuất độc quyền bởi công ty Aerojet Rocketdyne còn Williams International là công ty duy nhất chế tạo động cơ phản lực cánh quạt cho đa số các loại tên lửa hành trình'"
      ]
     },
     "execution_count": 849,
     "metadata": {},
     "output_type": "execute_result"
    }
   ],
   "source": [
    "claim"
   ]
  },
  {
   "cell_type": "markdown",
   "metadata": {},
   "source": [
    "# context slicing\n",
    "slice a single context into multiple smaller context "
   ]
  },
  {
   "cell_type": "code",
   "execution_count": 850,
   "metadata": {},
   "outputs": [
    {
     "data": {
      "image/png": "[encoded data removed]",
      "text/plain": [
       "<Figure size 640x480 with 1 Axes>"
      ]
     },
     "metadata": {},
     "output_type": "display_data"
    }
   ],
   "source": [
    "plt.plot(x, final_doc_scores,color=\"orange\",label=\"original\")\n",
    "plt.show()"
   ]
  },
  {
   "cell_type": "code",
   "execution_count": 851,
   "metadata": {},
   "outputs": [
    {
     "data": {
      "text/plain": [
       "[47,\n",
       " 19,\n",
       " 19,\n",
       " 54,\n",
       " 17,\n",
       " 17,\n",
       " 25,\n",
       " 30,\n",
       " 52,\n",
       " 23,\n",
       " 21,\n",
       " 19,\n",
       " 20,\n",
       " 28,\n",
       " 26,\n",
       " 31,\n",
       " 18,\n",
       " 26,\n",
       " 25,\n",
       " 34,\n",
       " 13,\n",
       " 14,\n",
       " 35,\n",
       " 31,\n",
       " 10,\n",
       " 12,\n",
       " 34,\n",
       " 31,\n",
       " 23]"
      ]
     },
     "execution_count": 851,
     "metadata": {},
     "output_type": "execute_result"
    }
   ],
   "source": [
    "context_tk_length\n"
   ]
  },
  {
   "cell_type": "code",
   "execution_count": 852,
   "metadata": {},
   "outputs": [],
   "source": [
    "def get_longest_continuest_context(tokenized_sents_lenght, start_pos, max_token_number):\n",
    "    if start_pos >= len(tokenized_sents_lenght):\n",
    "        return [], 0\n",
    "    selected = []\n",
    "    curr_length = 0\n",
    "    for idx in range(start_pos, len(tokenized_sents_lenght)):\n",
    "        if curr_length + tokenized_sents_lenght[idx] > max_token_number:\n",
    "            break\n",
    "        selected.append(idx)\n",
    "        curr_length += tokenized_sents_lenght[idx]\n",
    "    \n",
    "    return selected, curr_length"
   ]
  },
  {
   "cell_type": "code",
   "execution_count": 853,
   "metadata": {},
   "outputs": [],
   "source": [
    "def get_best_continuest_context(tokenized_sents_lenght, query_score, max_token_number=200):\n",
    "    best_context = []\n",
    "    max_score = 0\n",
    "    for i in range(len(tokenized_sents_lenght)):\n",
    "        selected, curr_length = get_longest_continuest_context(tokenized_sents_lenght, start_pos=i, max_token_number=max_token_number)\n",
    "        score = sum([query_score[i] for i in selected])\n",
    "        if score > max_score:\n",
    "            best_context = selected\n",
    "            max_score = score\n",
    "    return best_context, max_score"
   ]
  },
  {
   "cell_type": "code",
   "execution_count": 854,
   "metadata": {},
   "outputs": [
    {
     "name": "stdout",
     "output_type": "stream",
     "text": [
      "['Tuy_nhiên , trở_ngại là các công_ty này thường không sẵn_sàng tăng mạnh sản_lượng và chấp_nhận rủi_ro tài_chính mà không có hợp_đồng dài_hạn với chính_phủ .', 'Dù Bộ Quốc_phòng Mỹ thường ký hợp_đồng nhiều năm cho tàu và máy_bay , họ không ký hợp_đồng dài_hạn với nhiều loại đạn_dược .', 'Ngoài_ra , Mỹ thường_xuyên cắt_giảm ngân_sách đạn_dược vào cuối mỗi năm tài_khoá để nhường chỗ cho các ưu_tiên khác hoặc để khắc_phục các vấn_đề phát_sinh trong quá_trình mua_sắm các loại vũ_khí lớn .', 'Những hạn_chế về lực_lượng lao_động và chuỗi cung_ứng cũng là trở_ngại .', 'Trong một_số trường_hợp , một_số thiết_bị quan_trọng chỉ do một công_ty sản_xuất .', 'Động_cơ của tên_lửa Javelin hiện được sản_xuất độc_quyền bởi công_ty Aerojet_Rocketdyne , trong khi Williams_International là công_ty duy_nhất chế_tạo động_cơ_phản_lực cánh_quạt cho hầu_hết tên_lửa hành_trình .', 'Mỹ còn đối_mặt với tình_trạng thiếu_hụt một_số kim_loại đất_hiếm , mà Trung_Quốc gần như là nhà_cung_cấp độc_quyền , vốn rất quan_trọng trong sản_xuất các loại tên_lửa và đạn_dược khác .', 'Ngoài_ra , thời_gian sản_xuất là một trở_ngại đáng_kể .', 'Nhiều loại tên_lửa có_thể mất khoảng hai năm để sản_xuất .']\n"
     ]
    }
   ],
   "source": [
    "best_context, max_score = get_best_continuest_context(\n",
    "    tokenized_sents_lenght=context_tk_length,\n",
    "    query_score=final_doc_scores\n",
    ")\n",
    "\n",
    "print([context[i] for i in best_context])"
   ]
  },
  {
   "cell_type": "code",
   "execution_count": 855,
   "metadata": {},
   "outputs": [],
   "source": [
    "def slice_context(tokenized_sents_lenght, number_of_contexts, query_score, max_token_number=200):\n",
    "    qscores = copy.copy(query_score)\n",
    "    selected = []\n",
    "\n",
    "    for _ in range(number_of_contexts*2):\n",
    "        if len(selected) >= number_of_contexts:\n",
    "            break\n",
    "        best_context, max_score = get_best_continuest_context(\n",
    "            tokenized_sents_lenght=context_tk_length,\n",
    "            query_score=qscores,\n",
    "            max_token_number=max_token_number\n",
    "        )\n",
    "        \n",
    "        # reduce the score of the selected context\n",
    "\n",
    "        for i in best_context:\n",
    "            qscores[i] /= 3.5\n",
    "        print(max_score)\n",
    "        if best_context not in selected:\n",
    "            selected.append(best_context)\n",
    "    return selected"
   ]
  },
  {
   "cell_type": "code",
   "execution_count": 856,
   "metadata": {},
   "outputs": [],
   "source": [
    "MODEL_MAX_TOKEN = 500"
   ]
  },
  {
   "cell_type": "code",
   "execution_count": 857,
   "metadata": {},
   "outputs": [
    {
     "data": {
      "text/plain": [
       "2"
      ]
     },
     "execution_count": 857,
     "metadata": {},
     "output_type": "execute_result"
    }
   ],
   "source": [
    "math.ceil(sum(context_tk_length)*1.25/MODEL_MAX_TOKEN)"
   ]
  },
  {
   "cell_type": "code",
   "execution_count": 858,
   "metadata": {},
   "outputs": [
    {
     "name": "stdout",
     "output_type": "stream",
     "text": [
      "190.59940761583013\n",
      "62.712729503961405\n"
     ]
    },
    {
     "data": {
      "text/plain": [
       "[[6, 7, 8, 9, 10, 11, 12, 13, 14, 15, 16, 17, 18, 19, 20, 21, 22, 23, 24, 25],\n",
       " [9,\n",
       "  10,\n",
       "  11,\n",
       "  12,\n",
       "  13,\n",
       "  14,\n",
       "  15,\n",
       "  16,\n",
       "  17,\n",
       "  18,\n",
       "  19,\n",
       "  20,\n",
       "  21,\n",
       "  22,\n",
       "  23,\n",
       "  24,\n",
       "  25,\n",
       "  26,\n",
       "  27,\n",
       "  28]]"
      ]
     },
     "execution_count": 858,
     "metadata": {},
     "output_type": "execute_result"
    }
   ],
   "source": [
    "res = slice_context(\n",
    "    tokenized_sents_lenght=context_tk_length,\n",
    "    number_of_contexts = math.ceil(sum(context_tk_length)*1.2/MODEL_MAX_TOKEN),\n",
    "    query_score=final_doc_scores,\n",
    "    max_token_number=MODEL_MAX_TOKEN\n",
    ")\n",
    "res"
   ]
  },
  {
   "cell_type": "code",
   "execution_count": 859,
   "metadata": {},
   "outputs": [
    {
     "data": {
      "image/png": "[encoded data removed]",
      "text/plain": [
       "<Figure size 640x480 with 1 Axes>"
      ]
     },
     "metadata": {},
     "output_type": "display_data"
    }
   ],
   "source": [
    "\n",
    "for idx,sl in enumerate(res):\n",
    "    plt.plot(sl, [1 + idx for _ in range(len(sl))], label=\"context \" + str(idx))\n",
    "plt.plot(x, final_doc_scores,color=\"orange\",label=\"relevancy\")\n",
    "plt.legend(loc='best')\n",
    "\n",
    "plt.show()\n"
   ]
  },
  {
   "cell_type": "code",
   "execution_count": 860,
   "metadata": {},
   "outputs": [
    {
     "data": {
      "text/plain": [
       "754"
      ]
     },
     "execution_count": 860,
     "metadata": {},
     "output_type": "execute_result"
    }
   ],
   "source": [
    "sum(context_tk_length)"
   ]
  },
  {
   "cell_type": "code",
   "execution_count": 861,
   "metadata": {},
   "outputs": [
    {
     "data": {
      "text/plain": [
       "'Động cơ của tên lửa Javelin hiện được sản xuất độc quyền bởi công ty Aerojet Rocketdyne còn Williams International là công ty duy nhất chế tạo động cơ phản lực cánh quạt cho đa số các loại tên lửa hành trình'"
      ]
     },
     "execution_count": 861,
     "metadata": {},
     "output_type": "execute_result"
    }
   ],
   "source": [
    "claim"
   ]
  },
  {
   "cell_type": "code",
   "execution_count": 862,
   "metadata": {},
   "outputs": [
    {
     "data": {
      "text/plain": [
       "[['Nhưng đây cũng là những hệ_thống mà Mỹ có_thể sử_dụng để huấn_luyện binh_sĩ hoặc dự_trữ cho xung_đột tương_lai \" , ông Jones nói .',\n",
       "  'Ngay cả khi tăng tốc_độ sản_xuất , Mỹ có_thể mất vài năm để bù_đắp số tên_lửa Javelin , Stinger và các loại vũ_khí khác đã chuyển sang Ukraine .',\n",
       "  'Ngoài_ra , tốc_độ xuất_khẩu một_số loại vũ_khí như Javelin , Stinger , HIMARS , hệ_thống Rocket_Phóng loạt Dẫn đường ( GMLRS ) hay tên_lửa chống hạm Harpoon đồng_nghĩa Mỹ có nguy_cơ không còn đủ kho đạn_dược để đáp_ứng nếu xảy ra xung_đột trong tương_lai .',\n",
       "  '\" Xung_đột ở Ukraine đã chứng_minh rằng cuộc_chiến tiêu_hao thực_chất sẽ là xung_đột của các nền công_nghiệp \" , Jones nhận_xét .',\n",
       "  'Nỗ_lực triển_khai , trang_bị và tiếp_tế cho các lực_lượng là nhiệm_vụ đòi_hỏi phải có một cơ_sở công_nghiệp quy_mô lớn .',\n",
       "  'Trong một_số ngày , quân_đội Nga đã phóng 50.000 quả đạn pháo vào các vị_trí của Ukraine .',\n",
       "  'Lượng đạn pháo 155 mm Ukraine bắn trong 5 ngày bằng số_lượng đạn Mỹ sản_xuất trong một tháng .',\n",
       "  'Trong khi đó , tiêm_kích , xe_tăng chiến_đấu chủ_lực , pháo và máy_bay không người lái liên_tục bị phá_huỷ hoặc hỏng_hóc , đòi_hỏi thay_thế hoặc sửa_chữa .',\n",
       "  'Giới quan_sát cho rằng trong bối_cảnh cạnh_tranh quốc_tế hiện_nay , Mỹ cần một chiến_lược quốc_gia để củng_cố cơ_sở công_nghiệp quốc_phòng và tăng năng_lực quân_sự .',\n",
       "  '\" Không có giải_pháp nhanh_chóng nào để tăng_cường năng_lực sản_xuất tên_lửa nhằm đáp_ứng yêu_cầu , nhưng đó là lý_do Mỹ phải bắt_đầu ngay bây_giờ \" , Jones nói thêm .',\n",
       "  'Chuyên_gia của CSIS cho rằng bước đầu_tiên là Mỹ phải khuyến_khích các công_ty quốc_phòng tăng_sản xuất .',\n",
       "  'Tuy_nhiên , trở_ngại là các công_ty này thường không sẵn_sàng tăng mạnh sản_lượng và chấp_nhận rủi_ro tài_chính mà không có hợp_đồng dài_hạn với chính_phủ .',\n",
       "  'Dù Bộ Quốc_phòng Mỹ thường ký hợp_đồng nhiều năm cho tàu và máy_bay , họ không ký hợp_đồng dài_hạn với nhiều loại đạn_dược .',\n",
       "  'Ngoài_ra , Mỹ thường_xuyên cắt_giảm ngân_sách đạn_dược vào cuối mỗi năm tài_khoá để nhường chỗ cho các ưu_tiên khác hoặc để khắc_phục các vấn_đề phát_sinh trong quá_trình mua_sắm các loại vũ_khí lớn .',\n",
       "  'Những hạn_chế về lực_lượng lao_động và chuỗi cung_ứng cũng là trở_ngại .',\n",
       "  'Trong một_số trường_hợp , một_số thiết_bị quan_trọng chỉ do một công_ty sản_xuất .',\n",
       "  'Động_cơ của tên_lửa Javelin hiện được sản_xuất độc_quyền bởi công_ty Aerojet_Rocketdyne , trong khi Williams_International là công_ty duy_nhất chế_tạo động_cơ_phản_lực cánh_quạt cho hầu_hết tên_lửa hành_trình .',\n",
       "  'Mỹ còn đối_mặt với tình_trạng thiếu_hụt một_số kim_loại đất_hiếm , mà Trung_Quốc gần như là nhà_cung_cấp độc_quyền , vốn rất quan_trọng trong sản_xuất các loại tên_lửa và đạn_dược khác .',\n",
       "  'Ngoài_ra , thời_gian sản_xuất là một trở_ngại đáng_kể .',\n",
       "  'Nhiều loại tên_lửa có_thể mất khoảng hai năm để sản_xuất .'],\n",
       " ['\" Xung_đột ở Ukraine đã chứng_minh rằng cuộc_chiến tiêu_hao thực_chất sẽ là xung_đột của các nền công_nghiệp \" , Jones nhận_xét .',\n",
       "  'Nỗ_lực triển_khai , trang_bị và tiếp_tế cho các lực_lượng là nhiệm_vụ đòi_hỏi phải có một cơ_sở công_nghiệp quy_mô lớn .',\n",
       "  'Trong một_số ngày , quân_đội Nga đã phóng 50.000 quả đạn pháo vào các vị_trí của Ukraine .',\n",
       "  'Lượng đạn pháo 155 mm Ukraine bắn trong 5 ngày bằng số_lượng đạn Mỹ sản_xuất trong một tháng .',\n",
       "  'Trong khi đó , tiêm_kích , xe_tăng chiến_đấu chủ_lực , pháo và máy_bay không người lái liên_tục bị phá_huỷ hoặc hỏng_hóc , đòi_hỏi thay_thế hoặc sửa_chữa .',\n",
       "  'Giới quan_sát cho rằng trong bối_cảnh cạnh_tranh quốc_tế hiện_nay , Mỹ cần một chiến_lược quốc_gia để củng_cố cơ_sở công_nghiệp quốc_phòng và tăng năng_lực quân_sự .',\n",
       "  '\" Không có giải_pháp nhanh_chóng nào để tăng_cường năng_lực sản_xuất tên_lửa nhằm đáp_ứng yêu_cầu , nhưng đó là lý_do Mỹ phải bắt_đầu ngay bây_giờ \" , Jones nói thêm .',\n",
       "  'Chuyên_gia của CSIS cho rằng bước đầu_tiên là Mỹ phải khuyến_khích các công_ty quốc_phòng tăng_sản xuất .',\n",
       "  'Tuy_nhiên , trở_ngại là các công_ty này thường không sẵn_sàng tăng mạnh sản_lượng và chấp_nhận rủi_ro tài_chính mà không có hợp_đồng dài_hạn với chính_phủ .',\n",
       "  'Dù Bộ Quốc_phòng Mỹ thường ký hợp_đồng nhiều năm cho tàu và máy_bay , họ không ký hợp_đồng dài_hạn với nhiều loại đạn_dược .',\n",
       "  'Ngoài_ra , Mỹ thường_xuyên cắt_giảm ngân_sách đạn_dược vào cuối mỗi năm tài_khoá để nhường chỗ cho các ưu_tiên khác hoặc để khắc_phục các vấn_đề phát_sinh trong quá_trình mua_sắm các loại vũ_khí lớn .',\n",
       "  'Những hạn_chế về lực_lượng lao_động và chuỗi cung_ứng cũng là trở_ngại .',\n",
       "  'Trong một_số trường_hợp , một_số thiết_bị quan_trọng chỉ do một công_ty sản_xuất .',\n",
       "  'Động_cơ của tên_lửa Javelin hiện được sản_xuất độc_quyền bởi công_ty Aerojet_Rocketdyne , trong khi Williams_International là công_ty duy_nhất chế_tạo động_cơ_phản_lực cánh_quạt cho hầu_hết tên_lửa hành_trình .',\n",
       "  'Mỹ còn đối_mặt với tình_trạng thiếu_hụt một_số kim_loại đất_hiếm , mà Trung_Quốc gần như là nhà_cung_cấp độc_quyền , vốn rất quan_trọng trong sản_xuất các loại tên_lửa và đạn_dược khác .',\n",
       "  'Ngoài_ra , thời_gian sản_xuất là một trở_ngại đáng_kể .',\n",
       "  'Nhiều loại tên_lửa có_thể mất khoảng hai năm để sản_xuất .',\n",
       "  '\" Lầu_Năm_Góc cần phân_tích nhu_cầu dựa trên các kịch_bản chiến_tranh , sau đó họ có_thể cung_cấp các định_hướng và nguồn_lực để các nhà_sản_xuất quốc_phòng lấp đầy khoảng trống \" , Jones khuyến_nghị .',\n",
       "  'Quân_đội Mỹ có kế_hoạch tăng năng_lực sản_xuất hàng tháng đạn pháo 155 mm từ khoảng 14.000 quả lên 30.000 trong năm 2023 và hướng tới mục_tiêu 90.000 sau đó .',\n",
       "  'Lầu_Năm_Góc đã chi 80 triệu USD để tăng_cường sản_xuất Javelin với mong_muốn gấp đôi sản_lượng lên mức 4.000 tên_lửa mỗi năm .']]"
      ]
     },
     "execution_count": 862,
     "metadata": {},
     "output_type": "execute_result"
    }
   ],
   "source": [
    "[[context[i] for i in sl] for sl in res]"
   ]
  }
 ],
 "metadata": {
  "kernelspec": {
   "display_name": "dev",
   "language": "python",
   "name": "python3"
  },
  "language_info": {
   "codemirror_mode": {
    "name": "ipython",
    "version": 3
   },
   "file_extension": ".py",
   "mimetype": "text/x-python",
   "name": "python",
   "nbconvert_exporter": "python",
   "pygments_lexer": "ipython3",
   "version": "3.11.5"
  },
  "orig_nbformat": 4
 },
 "nbformat": 4,
 "nbformat_minor": 2
}
