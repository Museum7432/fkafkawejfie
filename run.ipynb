{
 "cells": [
  {
   "cell_type": "code",
   "execution_count": 2,
   "metadata": {},
   "outputs": [
    {
     "name": "stdout",
     "output_type": "stream",
     "text": [
      "2023-10-19 21:38:17 INFO  WordSegmenter:24 - Loading Word Segmentation model\n",
      "Traceback (most recent call last):\n",
      "  File \"/home/arch/Projects/college/dsc/scripts/to_multivers_format.py\", line 149, in <module>\n",
      "    main()\n",
      "  File \"/home/arch/Projects/college/dsc/scripts/to_multivers_format.py\", line 124, in main\n",
      "    data = pd.read_json(args.input_file, orient=\"index\")\n",
      "           ^^^^^^^^^^^^^^^^^^^^^^^^^^^^^^^^^^^^^^^^^^^^^\n",
      "  File \"/home/arch/Projects/college/dsc/dev/lib/python3.11/site-packages/pandas/io/json/_json.py\", line 780, in read_json\n",
      "    json_reader = JsonReader(\n",
      "                  ^^^^^^^^^^^\n",
      "  File \"/home/arch/Projects/college/dsc/dev/lib/python3.11/site-packages/pandas/io/json/_json.py\", line 893, in __init__\n",
      "    data = self._get_data_from_filepath(filepath_or_buffer)\n",
      "           ^^^^^^^^^^^^^^^^^^^^^^^^^^^^^^^^^^^^^^^^^^^^^^^^\n",
      "  File \"/home/arch/Projects/college/dsc/dev/lib/python3.11/site-packages/pandas/io/json/_json.py\", line 949, in _get_data_from_filepath\n",
      "    raise FileNotFoundError(f\"File {filepath_or_buffer} does not exist\")\n",
      "FileNotFoundError: File ./datasets/ise-dsc01-public-test-offcial.json does not exist\n"
     ]
    }
   ],
   "source": [
    "!python scripts/to_multivers_format.py --input_file ./datasets/ise-dsc01-public-test-offcial.json --claims_file datasets/claims.jsonl --corpus_file datasets/corpus.jsonl"
   ]
  },
  {
   "cell_type": "code",
   "execution_count": 8,
   "metadata": {},
   "outputs": [
    {
     "name": "stdout",
     "output_type": "stream",
     "text": [
      "100%|████████████████████████████████████████| 100/100 [00:00<00:00, 257.66it/s]\n"
     ]
    }
   ],
   "source": [
    "!python scripts/truncate_abstract.py --input_file multivers/data_train/pretrain/evidence_inference/dev.jsonl --output_file datasets/outputs/test.jsonl "
   ]
  },
  {
   "cell_type": "code",
   "execution_count": 2,
   "metadata": {},
   "outputs": [],
   "source": [
    "!mkdir ./datasets/outputs"
   ]
  },
  {
   "cell_type": "code",
   "execution_count": 9,
   "metadata": {},
   "outputs": [
    {
     "name": "stdout",
     "output_type": "stream",
     "text": [
      "/home/arch/Projects/college/dsc/dev/lib/python3.11/site-packages/numpy/core/fromnumeric.py:59: FutureWarning: 'DataFrame.swapaxes' is deprecated and will be removed in a future version. Please use 'DataFrame.transpose' instead.\n",
      "  return bound(*args, **kwds)\n",
      "100%|███████████████████████████████████| 2397/2397 [00:00<00:00, 285488.04it/s]\n",
      "/home/arch/Projects/college/dsc/dev/lib/python3.11/site-packages/numpy/core/fromnumeric.py:59: FutureWarning: 'DataFrame.swapaxes' is deprecated and will be removed in a future version. Please use 'DataFrame.transpose' instead.\n",
      "  return bound(*args, **kwds)\n",
      "100%|█████████████████████████████████████| 239/239 [00:00<00:00, 290646.17it/s]\n"
     ]
    }
   ],
   "source": [
    "!python scripts/translate.py --claims_file datasets/claims.jsonl --corpus_file datasets/corpus.jsonl --output_dir datasets/outputs --chunk_size_claim 20 --chunk_size_corpus 2"
   ]
  },
  {
   "cell_type": "code",
   "execution_count": null,
   "metadata": {},
   "outputs": [],
   "source": [
    "!python src/predict.py \\\n",
    "        --checkpoint_path=multivers/checkpoints/scifact.ckpt \\\n",
    "        --input_file=datasets/outputs/claims.jsonl \\\n",
    "        --corpus_file=datasets/outputs/corpus.jsonl \\\n",
    "        --output_file=outputs/output_scifact.jsonl"
   ]
  },
  {
   "cell_type": "code",
   "execution_count": null,
   "metadata": {},
   "outputs": [],
   "source": [
    "!python src/predict.py \\\n",
    "        --checkpoint_path=multivers/checkpoints/fever_sci.ckpt \\\n",
    "        --input_file=datasets/outputs/claims.jsonl \\\n",
    "        --corpus_file=datasets/outputs/corpus400.jsonl \\\n",
    "        --output_file=outputs/output_fever_sci400.jsonl"
   ]
  },
  {
   "cell_type": "code",
   "execution_count": null,
   "metadata": {},
   "outputs": [],
   "source": [
    "!python src/predict.py \\\n",
    "        --checkpoint_path=multivers/checkpoints/fever.ckpt \\\n",
    "        --input_file=datasets/outputs/claims.jsonl \\\n",
    "        --corpus_file=datasets/outputs/corpus.jsonl \\\n",
    "        --output_file=outputs/output_fever.jsonl"
   ]
  },
  {
   "cell_type": "code",
   "execution_count": 1,
   "metadata": {},
   "outputs": [
    {
     "name": "stdout",
     "output_type": "stream",
     "text": [
      "/home/arch/Projects/college/dsc/multivers\n",
      "Global seed set to 76\n",
      "GPU available: True, used: True\n",
      "TPU available: None, using: 0 TPU cores\n",
      "/home/arch/Projects/college/dsc/dev_multivers/lib/python3.8/site-packages/pytorch_lightning/utilities/distributed.py:50: UserWarning: Experiment logs directory ./checkpoints_user/fever_2 exists and is not empty. Previous log files in this directory will be deleted when the new ones are saved!\n",
      "  warnings.warn(*args, **kwargs)\n",
      "\n",
      "  | Name                 | Type            | Params\n",
      "---------------------------------------------------------\n",
      "0 | encoder              | XLMRobertaModel | 559 M \n",
      "1 | dropout              | Dropout         | 0     \n",
      "2 | label_classifier     | FeedForward     | 1.1 M \n",
      "3 | rationale_classifier | FeedForward     | 2.1 M \n",
      "4 | metrics              | ModuleDict      | 0     \n",
      "---------------------------------------------------------\n",
      "3.2 M     Trainable params\n",
      "559 M     Non-trainable params\n",
      "563 M     Total params\n",
      "2,252.169 Total estimated model params size (MB)\n",
      "Epoch 0:   0%|    | 28/345916 [00:06<23:58:23,  4.01it/s, loss=28.2, v_num=er_2]^C\n",
      "/home/arch/Projects/college/dsc/dev_multivers/lib/python3.8/site-packages/pytorch_lightning/utilities/distributed.py:50: UserWarning: Detected KeyboardInterrupt, attempting graceful shutdown...\n",
      "  warnings.warn(*args, **kwargs)\n",
      "Saving latest checkpoint...\n",
      "Epoch 0:   0%|    | 28/345916 [00:07<25:12:13,  3.81it/s, loss=28.2, v_num=er_2]\n"
     ]
    }
   ],
   "source": [
    "%cd multivers\n",
    "!python script/pretrain.py --datasets fever --gpus \"1\""
   ]
  },
  {
   "cell_type": "code",
   "execution_count": null,
   "metadata": {},
   "outputs": [],
   "source": []
  }
 ],
 "metadata": {
  "kernelspec": {
   "display_name": "dev",
   "language": "python",
   "name": "python3"
  },
  "language_info": {
   "codemirror_mode": {
    "name": "ipython",
    "version": 3
   },
   "file_extension": ".py",
   "mimetype": "text/x-python",
   "name": "python",
   "nbconvert_exporter": "python",
   "pygments_lexer": "ipython3",
   "version": "3.11.5"
  }
 },
 "nbformat": 4,
 "nbformat_minor": 2
}
