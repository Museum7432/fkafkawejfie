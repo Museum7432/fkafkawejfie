{
 "cells": [
  {
   "cell_type": "code",
   "execution_count": 1,
   "metadata": {},
   "outputs": [
    {
     "name": "stdout",
     "output_type": "stream",
     "text": [
      "100%|█████████████████████████████████████| 4794/4794 [00:01<00:00, 2399.80it/s]\n",
      "100%|█████████████████████████████████████| 4794/4794 [00:04<00:00, 1067.41it/s]\n"
     ]
    }
   ],
   "source": [
    "!python scripts/to_multivers_format.py --input_file datasets/ise-dsc01-public-test-offcial.json --claims_file datasets/claims.jsonl --corpus_file datasets/corpus.jsonl"
   ]
  },
  {
   "cell_type": "code",
   "execution_count": 2,
   "metadata": {},
   "outputs": [],
   "source": [
    "!mkdir ./datasets/outputs"
   ]
  },
  {
   "cell_type": "code",
   "execution_count": 3,
   "metadata": {},
   "outputs": [
    {
     "name": "stdout",
     "output_type": "stream",
     "text": [
      "usage: translate.py [-h] [--claims_file CLAIMS_FILE]\n",
      "                    [--corpus_file CORPUS_FILE] [--output_dir OUTPUT_DIR]\n",
      "                    [--chunk_size CHUNK_SIZE]\n",
      "translate.py: error: unrecognized arguments: --claim_file datasets/claims.jsonl\n"
     ]
    }
   ],
   "source": [
    "!python scripts/translate.py --claims_file datasets/claims.jsonl --corpus_file datasets/corpus.jsonl --output_dir datasets/outputs"
   ]
  }
 ],
 "metadata": {
  "kernelspec": {
   "display_name": "dev",
   "language": "python",
   "name": "python3"
  },
  "language_info": {
   "codemirror_mode": {
    "name": "ipython",
    "version": 3
   },
   "file_extension": ".py",
   "mimetype": "text/x-python",
   "name": "python",
   "nbconvert_exporter": "python",
   "pygments_lexer": "ipython3",
   "version": "3.11.5"
  }
 },
 "nbformat": 4,
 "nbformat_minor": 2
}
