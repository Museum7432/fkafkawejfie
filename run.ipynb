{
 "cells": [
  {
   "cell_type": "code",
   "execution_count": 4,
   "metadata": {},
   "outputs": [
    {
     "name": "stdout",
     "output_type": "stream",
     "text": [
      "100%|█████████████████████████████████████| 4794/4794 [00:01<00:00, 2465.03it/s]\n",
      "100%|█████████████████████████████████████| 4794/4794 [00:04<00:00, 1069.07it/s]\n"
     ]
    }
   ],
   "source": [
    "!python scripts/to_multivers_format.py --input_file datasets/ise-dsc01-public-test-offcial.json --claims_file datasets/claims.jsonl --corpus_file datasets/corpus.jsonl"
   ]
  },
  {
   "cell_type": "code",
   "execution_count": 2,
   "metadata": {},
   "outputs": [],
   "source": [
    "!mkdir ./datasets/outputs"
   ]
  },
  {
   "cell_type": "code",
   "execution_count": 17,
   "metadata": {},
   "outputs": [
    {
     "name": "stdout",
     "output_type": "stream",
     "text": [
      "/home/arch/Projects/college/dsc/dev/lib/python3.11/site-packages/numpy/core/fromnumeric.py:59: FutureWarning: 'DataFrame.swapaxes' is deprecated and will be removed in a future version. Please use 'DataFrame.transpose' instead.\n",
      "  return bound(*args, **kwds)\n",
      "  0%|                                                   | 0/479 [00:06<?, ?it/s]\n",
      "Traceback (most recent call last):\n",
      "  File \"/home/arch/Projects/college/dsc/scripts/translate.py\", line 109, in <module>\n",
      "    main()\n",
      "  File \"/home/arch/Projects/college/dsc/scripts/translate.py\", line 57, in main\n",
      "    output_ids = model.module.generate(\n",
      "                 ^^^^^^^^^^^^^^^^^^^^^^\n",
      "  File \"/home/arch/Projects/college/dsc/dev/lib/python3.11/site-packages/torch/utils/_contextlib.py\", line 115, in decorate_context\n",
      "    return func(*args, **kwargs)\n",
      "           ^^^^^^^^^^^^^^^^^^^^^\n",
      "  File \"/home/arch/Projects/college/dsc/dev/lib/python3.11/site-packages/transformers/generation/utils.py\", line 1685, in generate\n",
      "    return self.beam_search(\n",
      "           ^^^^^^^^^^^^^^^^^\n",
      "  File \"/home/arch/Projects/college/dsc/dev/lib/python3.11/site-packages/transformers/generation/utils.py\", line 3024, in beam_search\n",
      "    outputs = self(\n",
      "              ^^^^^\n",
      "  File \"/home/arch/Projects/college/dsc/dev/lib/python3.11/site-packages/torch/nn/modules/module.py\", line 1501, in _call_impl\n",
      "    return forward_call(*args, **kwargs)\n",
      "           ^^^^^^^^^^^^^^^^^^^^^^^^^^^^^\n",
      "  File \"/home/arch/Projects/college/dsc/dev/lib/python3.11/site-packages/transformers/models/mbart/modeling_mbart.py\", line 1362, in forward\n",
      "    outputs = self.model(\n",
      "              ^^^^^^^^^^^\n",
      "  File \"/home/arch/Projects/college/dsc/dev/lib/python3.11/site-packages/torch/nn/modules/module.py\", line 1501, in _call_impl\n",
      "    return forward_call(*args, **kwargs)\n",
      "           ^^^^^^^^^^^^^^^^^^^^^^^^^^^^^\n",
      "  File \"/home/arch/Projects/college/dsc/dev/lib/python3.11/site-packages/transformers/models/mbart/modeling_mbart.py\", line 1248, in forward\n",
      "    decoder_outputs = self.decoder(\n",
      "                      ^^^^^^^^^^^^^\n",
      "  File \"/home/arch/Projects/college/dsc/dev/lib/python3.11/site-packages/torch/nn/modules/module.py\", line 1501, in _call_impl\n",
      "    return forward_call(*args, **kwargs)\n",
      "           ^^^^^^^^^^^^^^^^^^^^^^^^^^^^^\n",
      "  File \"/home/arch/Projects/college/dsc/dev/lib/python3.11/site-packages/transformers/models/mbart/modeling_mbart.py\", line 1108, in forward\n",
      "    layer_outputs = decoder_layer(\n",
      "                    ^^^^^^^^^^^^^^\n",
      "  File \"/home/arch/Projects/college/dsc/dev/lib/python3.11/site-packages/torch/nn/modules/module.py\", line 1501, in _call_impl\n",
      "    return forward_call(*args, **kwargs)\n",
      "           ^^^^^^^^^^^^^^^^^^^^^^^^^^^^^\n",
      "  File \"/home/arch/Projects/college/dsc/dev/lib/python3.11/site-packages/transformers/models/mbart/modeling_mbart.py\", line 443, in forward\n",
      "    hidden_states, cross_attn_weights, cross_attn_present_key_value = self.encoder_attn(\n",
      "                                                                      ^^^^^^^^^^^^^^^^^^\n",
      "  File \"/home/arch/Projects/college/dsc/dev/lib/python3.11/site-packages/torch/nn/modules/module.py\", line 1501, in _call_impl\n",
      "    return forward_call(*args, **kwargs)\n",
      "           ^^^^^^^^^^^^^^^^^^^^^^^^^^^^^\n",
      "  File \"/home/arch/Projects/college/dsc/dev/lib/python3.11/site-packages/transformers/models/mbart/modeling_mbart.py\", line 205, in forward\n",
      "    value_states = self._shape(self.v_proj(key_value_states), -1, bsz)\n",
      "                   ^^^^^^^^^^^^^^^^^^^^^^^^^^^^^^^^^^^^^^^^^^^^^^^^^^^\n",
      "  File \"/home/arch/Projects/college/dsc/dev/lib/python3.11/site-packages/transformers/models/mbart/modeling_mbart.py\", line 169, in _shape\n",
      "    return tensor.view(bsz, seq_len, self.num_heads, self.head_dim).transpose(1, 2).contiguous()\n",
      "           ^^^^^^^^^^^^^^^^^^^^^^^^^^^^^^^^^^^^^^^^^^^^^^^^^^^^^^^^^^^^^^^^^^^^^^^^^^^^^^^^^^^^^\n",
      "torch.cuda.OutOfMemoryError: CUDA out of memory. Tried to allocate 576.00 MiB (GPU 0; 3.81 GiB total capacity; 3.40 GiB already allocated; 144.94 MiB free; 3.60 GiB reserved in total by PyTorch) If reserved memory is >> allocated memory try setting max_split_size_mb to avoid fragmentation.  See documentation for Memory Management and PYTORCH_CUDA_ALLOC_CONF\n"
     ]
    }
   ],
   "source": [
    "!python scripts/translate.py --claims_file datasets/claims.jsonl --corpus_file datasets/corpus.jsonl --output_dir datasets/outputs --chunk_size_claim 20 --chunk_size_corpus 2"
   ]
  },
  {
   "cell_type": "code",
   "execution_count": 16,
   "metadata": {},
   "outputs": [
    {
     "name": "stderr",
     "output_type": "stream",
     "text": [
      "100it [01:40,  1.00s/it]\n"
     ]
    }
   ],
   "source": [
    "for i in tqdm(enumerate(range(100))):\n",
    "    time.sleep(1)"
   ]
  }
 ],
 "metadata": {
  "kernelspec": {
   "display_name": "dev",
   "language": "python",
   "name": "python3"
  },
  "language_info": {
   "codemirror_mode": {
    "name": "ipython",
    "version": 3
   },
   "file_extension": ".py",
   "mimetype": "text/x-python",
   "name": "python",
   "nbconvert_exporter": "python",
   "pygments_lexer": "ipython3",
   "version": "3.11.5"
  }
 },
 "nbformat": 4,
 "nbformat_minor": 2
}
