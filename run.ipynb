{
 "cells": [
  {
   "cell_type": "code",
   "execution_count": 8,
   "metadata": {},
   "outputs": [
    {
     "name": "stdout",
     "output_type": "stream",
     "text": [
      "100%|█████████████████████████████████████| 4794/4794 [00:01<00:00, 2529.11it/s]\n",
      "100%|█████████████████████████████████████| 4794/4794 [00:04<00:00, 1070.79it/s]\n"
     ]
    }
   ],
   "source": [
    "!python scripts/to_multivers_format.py --input_file datasets/ise-dsc01-public-test-offcial.json --claims_file datasets/claims.jsonl --corpus_file datasets/corpus.jsonl"
   ]
  },
  {
   "cell_type": "code",
   "execution_count": 2,
   "metadata": {},
   "outputs": [],
   "source": [
    "!mkdir ./datasets/outputs"
   ]
  },
  {
   "cell_type": "code",
   "execution_count": 9,
   "metadata": {},
   "outputs": [
    {
     "name": "stdout",
     "output_type": "stream",
     "text": [
      "/home/arch/Projects/college/dsc/dev/lib/python3.11/site-packages/numpy/core/fromnumeric.py:59: FutureWarning: 'DataFrame.swapaxes' is deprecated and will be removed in a future version. Please use 'DataFrame.transpose' instead.\n",
      "  return bound(*args, **kwds)\n",
      "100%|███████████████████████████████████| 2397/2397 [00:00<00:00, 285488.04it/s]\n",
      "/home/arch/Projects/college/dsc/dev/lib/python3.11/site-packages/numpy/core/fromnumeric.py:59: FutureWarning: 'DataFrame.swapaxes' is deprecated and will be removed in a future version. Please use 'DataFrame.transpose' instead.\n",
      "  return bound(*args, **kwds)\n",
      "100%|█████████████████████████████████████| 239/239 [00:00<00:00, 290646.17it/s]\n"
     ]
    }
   ],
   "source": [
    "!python scripts/translate.py --claims_file datasets/claims.jsonl --corpus_file datasets/corpus.jsonl --output_dir datasets/outputs --chunk_size_claim 20 --chunk_size_corpus 2"
   ]
  },
  {
   "cell_type": "code",
   "execution_count": null,
   "metadata": {},
   "outputs": [],
   "source": [
    "!python src/predict.py \\\n",
    "        --checkpoint_path=checkpoints/fever.ckpt \\\n",
    "        --input_file=datasets/outputs/claims.jsonl \\\n",
    "        --corpus_file=datasets/outputs/corpus.jsonl \\\n",
    "        --output_file=outputs/output.jsonl"
   ]
  }
 ],
 "metadata": {
  "kernelspec": {
   "display_name": "dev",
   "language": "python",
   "name": "python3"
  },
  "language_info": {
   "codemirror_mode": {
    "name": "ipython",
    "version": 3
   },
   "file_extension": ".py",
   "mimetype": "text/x-python",
   "name": "python",
   "nbconvert_exporter": "python",
   "pygments_lexer": "ipython3",
   "version": "3.11.5"
  }
 },
 "nbformat": 4,
 "nbformat_minor": 2
}
