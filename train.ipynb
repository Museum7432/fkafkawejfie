{
 "cells": [
  {
   "cell_type": "code",
   "execution_count": null,
   "metadata": {},
   "outputs": [],
   "source": [
    "!git clone https://github.com/Museum7432/fkafkawejfie.git multivers\n",
    "%cd multivers/multivers/multivers_phobert_longformer_with_sentences_att"
   ]
  },
  {
   "cell_type": "code",
   "execution_count": null,
   "metadata": {},
   "outputs": [],
   "source": [
    "%pip install -r requirements.txt"
   ]
  },
  {
   "cell_type": "markdown",
   "metadata": {},
   "source": [
    "# download training data"
   ]
  },
  {
   "cell_type": "code",
   "execution_count": null,
   "metadata": {},
   "outputs": [],
   "source": [
    "# https://drive.google.com/file/d/1OTLnyWZlEI7bqLQxvlx8KmAmicvmMzFH/view?usp=sharing\n",
    "!gdown 1OTLnyWZlEI7bqLQxvlx8KmAmicvmMzFH\n",
    "!unzip -d data_train/pretrain train_cus1.zip"
   ]
  },
  {
   "cell_type": "code",
   "execution_count": null,
   "metadata": {},
   "outputs": [],
   "source": [
    "!python script/pretrain.py --datasets custom1 --gpus 1"
   ]
  }
 ],
 "metadata": {
  "language_info": {
   "name": "python"
  }
 },
 "nbformat": 4,
 "nbformat_minor": 2
}
