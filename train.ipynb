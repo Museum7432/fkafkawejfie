{
 "cells": [
  {
   "cell_type": "markdown",
   "metadata": {},
   "source": [
    "# 1. run this cell"
   ]
  },
  {
   "cell_type": "code",
   "execution_count": null,
   "metadata": {},
   "outputs": [],
   "source": [
    "!pip install -q condacolab\n",
    "import condacolab\n",
    "condacolab.install()"
   ]
  },
  {
   "cell_type": "markdown",
   "metadata": {},
   "source": [
    "# 2. after restarting the kernel, run all from here"
   ]
  },
  {
   "cell_type": "code",
   "execution_count": null,
   "metadata": {},
   "outputs": [],
   "source": [
    "!git clone https://github.com/Museum7432/fkafkawejfie.git multivers\n",
    "%cd multivers/multivers/multivers_phobert_longformer_with_sentences_att"
   ]
  },
  {
   "cell_type": "markdown",
   "metadata": {},
   "source": [
    "install dependencies"
   ]
  },
  {
   "cell_type": "code",
   "execution_count": null,
   "metadata": {},
   "outputs": [],
   "source": [
    "!conda create --name multivers python=3.8 conda-build\n",
    "!source activate multivers && pip install -r requirements.txt\n",
    "# for newer gpu\n",
    "# !source activate multivers && pip install torch==1.7.1+cu110 torchvision==0.8.2+cu110 torchaudio==0.7.2 -f https://download.pytorch.org/whl/torch_stable.html"
   ]
  },
  {
   "cell_type": "markdown",
   "metadata": {},
   "source": [
    "download training data"
   ]
  },
  {
   "cell_type": "code",
   "execution_count": null,
   "metadata": {},
   "outputs": [],
   "source": [
    "# https://drive.google.com/file/d/1OTLnyWZlEI7bqLQxvlx8KmAmicvmMzFH/view?usp=sharing\n",
    "!gdown 1OTLnyWZlEI7bqLQxvlx8KmAmicvmMzFH\n",
    "!mkdir data_train data_train/pretrain\n",
    "!unzip -d data_train/pretrain train_cus1.zip"
   ]
  },
  {
   "cell_type": "code",
   "execution_count": null,
   "metadata": {},
   "outputs": [],
   "source": [
    "# you can use wandb to track the training process\n",
    "!source activate multivers && python script/pretrain.py --datasets custom1 --gpus 1"
   ]
  }
 ],
 "metadata": {
  "language_info": {
   "name": "python"
  }
 },
 "nbformat": 4,
 "nbformat_minor": 2
}
